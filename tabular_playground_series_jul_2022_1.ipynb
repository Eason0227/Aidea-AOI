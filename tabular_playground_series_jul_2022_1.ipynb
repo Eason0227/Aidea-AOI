{
  "cells": [
    {
      "cell_type": "markdown",
      "metadata": {
        "id": "view-in-github",
        "colab_type": "text"
      },
      "source": [
        "<a href=\"https://colab.research.google.com/github/Eason0227/Aidea-AOI/blob/main/tabular_playground_series_jul_2022_1.ipynb\" target=\"_parent\"><img src=\"https://colab.research.google.com/assets/colab-badge.svg\" alt=\"Open In Colab\"/></a>"
      ]
    },
    {
      "cell_type": "markdown",
      "metadata": {
        "id": "xvxF4j5iajUs"
      },
      "source": [
        "# tabular-playground-series-jul-2022\n",
        "https://www.kaggle.com/competitions/tabular-playground-series-jul-2022/overview  \n",
        "Evaluation：Evaluating the Adjusted Rand Index between the ground truth cluster labels of the data and predicted cluster labels.\n",
        "### refernce\n",
        "https://www.kaggle.com/code/cabaxiom/tps-jul-22-bgmm-semi-supervised#Feature-Importance  \n",
        "https://www.kaggle.com/code/mehrankazeminia/3-3-tps22jul-clustering-ensembling"
      ]
    },
    {
      "cell_type": "markdown",
      "metadata": {
        "id": "Nlqal85hajUw"
      },
      "source": [
        "### Bayesian Gaussian Mixture Models - Semi-Supervised\n",
        "Contents  \n",
        "* EDA\n",
        "* Determine the optimal number of clusters using GMM and BIC scores\n",
        "* Estimate Feature importance\n",
        "* Cluster the data using soft-voting\n",
        "* Classification using the confident predictions from clustering as training labels\n",
        "* Iterative Classification with BGMM Classifier"
      ]
    },
    {
      "cell_type": "code",
      "execution_count": 4,
      "metadata": {
        "id": "3iS_VgwqEBkF"
      },
      "outputs": [],
      "source": [
        "import numpy as np\n",
        "import pandas as pd\n",
        "import matplotlib.pyplot as plt\n",
        "import seaborn as sns\n",
        "sns.set_style('darkgrid')\n",
        "\n",
        "from scipy.stats import shapiro\n",
        "from sklearn.preprocessing import StandardScaler, RobustScaler, MinMaxScaler, PowerTransformer\n",
        "from sklearn.mixture import GaussianMixture, BayesianGaussianMixture\n",
        "from sklearn.decomposition import PCA\n",
        "from sklearn.metrics import silhouette_score, calinski_harabasz_score, davies_bouldin_score\n",
        "    \n",
        "from lightgbm import LGBMClassifier\n",
        "from sklearn.model_selection import StratifiedKFold\n",
        "from sklearn.metrics import accuracy_score\n",
        "from sklearn.ensemble import ExtraTreesClassifier\n",
        "from sklearn.discriminant_analysis import QuadraticDiscriminantAnalysis, LinearDiscriminantAnalysis\n",
        "from sklego.mixture import BayesianGMMClassifier\n",
        "\n",
        "df = pd.read_csv(\"/content/drive/MyDrive/Colab Notebooks/tabular playground series jul 2022/data.csv\")\n",
        "submission = pd.read_csv(\"/content/drive/MyDrive/Colab Notebooks/tabular playground series jul 2022/sample_submission.csv\")"
      ]
    },
    {
      "cell_type": "code",
      "source": [
        "pip install sklego"
      ],
      "metadata": {
        "id": "am3Vj6j5awc-",
        "colab": {
          "base_uri": "https://localhost:8080/"
        },
        "outputId": "c82299ad-f3fe-43a3-beb6-a7f0a7ae61cd"
      },
      "execution_count": 3,
      "outputs": [
        {
          "output_type": "stream",
          "name": "stdout",
          "text": [
            "Looking in indexes: https://pypi.org/simple, https://us-python.pkg.dev/colab-wheels/public/simple/\n",
            "Collecting sklego\n",
            "  Downloading sklego-0.0-py2.py3-none-any.whl (1.1 kB)\n",
            "Collecting scikit-lego\n",
            "  Downloading scikit_lego-0.6.14-py2.py3-none-any.whl (230 kB)\n",
            "\u001b[2K     \u001b[90m━━━━━━━━━━━━━━━━━━━━━━━━━━━━━━━━━━━━━━━\u001b[0m \u001b[32m230.9/230.9 KB\u001b[0m \u001b[31m7.8 MB/s\u001b[0m eta \u001b[36m0:00:00\u001b[0m\n",
            "\u001b[?25hRequirement already satisfied: scikit-learn>=0.24.1 in /usr/local/lib/python3.9/dist-packages (from scikit-lego->sklego) (1.2.2)\n",
            "Requirement already satisfied: pandas>=1.1.5 in /usr/local/lib/python3.9/dist-packages (from scikit-lego->sklego) (1.4.4)\n",
            "Requirement already satisfied: patsy>=0.5.1 in /usr/local/lib/python3.9/dist-packages (from scikit-lego->sklego) (0.5.3)\n",
            "Collecting Deprecated>=1.2.6\n",
            "  Downloading Deprecated-1.2.13-py2.py3-none-any.whl (9.6 kB)\n",
            "Requirement already satisfied: autograd>=1.2 in /usr/local/lib/python3.9/dist-packages (from scikit-lego->sklego) (1.5)\n",
            "Collecting umap-learn>=0.4.6\n",
            "  Downloading umap-learn-0.5.3.tar.gz (88 kB)\n",
            "\u001b[2K     \u001b[90m━━━━━━━━━━━━━━━━━━━━━━━━━━━━━━━━━━━━━━━━\u001b[0m \u001b[32m88.2/88.2 KB\u001b[0m \u001b[31m8.7 MB/s\u001b[0m eta \u001b[36m0:00:00\u001b[0m\n",
            "\u001b[?25h  Preparing metadata (setup.py) ... \u001b[?25l\u001b[?25hdone\n",
            "Requirement already satisfied: future>=0.15.2 in /usr/local/lib/python3.9/dist-packages (from autograd>=1.2->scikit-lego->sklego) (0.16.0)\n",
            "Requirement already satisfied: numpy>=1.12 in /usr/local/lib/python3.9/dist-packages (from autograd>=1.2->scikit-lego->sklego) (1.22.4)\n",
            "Requirement already satisfied: wrapt<2,>=1.10 in /usr/local/lib/python3.9/dist-packages (from Deprecated>=1.2.6->scikit-lego->sklego) (1.15.0)\n",
            "Requirement already satisfied: python-dateutil>=2.8.1 in /usr/local/lib/python3.9/dist-packages (from pandas>=1.1.5->scikit-lego->sklego) (2.8.2)\n",
            "Requirement already satisfied: pytz>=2020.1 in /usr/local/lib/python3.9/dist-packages (from pandas>=1.1.5->scikit-lego->sklego) (2022.7.1)\n",
            "Requirement already satisfied: six in /usr/local/lib/python3.9/dist-packages (from patsy>=0.5.1->scikit-lego->sklego) (1.15.0)\n",
            "Requirement already satisfied: joblib>=1.1.1 in /usr/local/lib/python3.9/dist-packages (from scikit-learn>=0.24.1->scikit-lego->sklego) (1.1.1)\n",
            "Requirement already satisfied: scipy>=1.3.2 in /usr/local/lib/python3.9/dist-packages (from scikit-learn>=0.24.1->scikit-lego->sklego) (1.10.1)\n",
            "Requirement already satisfied: threadpoolctl>=2.0.0 in /usr/local/lib/python3.9/dist-packages (from scikit-learn>=0.24.1->scikit-lego->sklego) (3.1.0)\n",
            "Requirement already satisfied: numba>=0.49 in /usr/local/lib/python3.9/dist-packages (from umap-learn>=0.4.6->scikit-lego->sklego) (0.56.4)\n",
            "Collecting pynndescent>=0.5\n",
            "  Downloading pynndescent-0.5.8.tar.gz (1.1 MB)\n",
            "\u001b[2K     \u001b[90m━━━━━━━━━━━━━━━━━━━━━━━━━━━━━━━━━━━━━━━━\u001b[0m \u001b[32m1.1/1.1 MB\u001b[0m \u001b[31m31.1 MB/s\u001b[0m eta \u001b[36m0:00:00\u001b[0m\n",
            "\u001b[?25h  Preparing metadata (setup.py) ... \u001b[?25l\u001b[?25hdone\n",
            "Requirement already satisfied: tqdm in /usr/local/lib/python3.9/dist-packages (from umap-learn>=0.4.6->scikit-lego->sklego) (4.65.0)\n",
            "Requirement already satisfied: llvmlite<0.40,>=0.39.0dev0 in /usr/local/lib/python3.9/dist-packages (from numba>=0.49->umap-learn>=0.4.6->scikit-lego->sklego) (0.39.1)\n",
            "Requirement already satisfied: setuptools in /usr/local/lib/python3.9/dist-packages (from numba>=0.49->umap-learn>=0.4.6->scikit-lego->sklego) (63.4.3)\n",
            "Building wheels for collected packages: umap-learn, pynndescent\n",
            "  Building wheel for umap-learn (setup.py) ... \u001b[?25l\u001b[?25hdone\n",
            "  Created wheel for umap-learn: filename=umap_learn-0.5.3-py3-none-any.whl size=82827 sha256=8c042c774ffad6132805a0106ff270bc03ebbc59bc802abbeaf46fa6fa21a0f5\n",
            "  Stored in directory: /root/.cache/pip/wheels/f4/3e/1c/596d0a463d17475af648688443fa4846fef624d1390339e7e9\n",
            "  Building wheel for pynndescent (setup.py) ... \u001b[?25l\u001b[?25hdone\n",
            "  Created wheel for pynndescent: filename=pynndescent-0.5.8-py3-none-any.whl size=55510 sha256=640e6d434981e6553d4454cbf82a210fb2c086f8752666f5d4a72127f54f30b5\n",
            "  Stored in directory: /root/.cache/pip/wheels/b9/89/cc/59ab91ef5b21dc2ab3635528d7d227f49dfc9169905dcb959d\n",
            "Successfully built umap-learn pynndescent\n",
            "Installing collected packages: Deprecated, pynndescent, umap-learn, scikit-lego, sklego\n",
            "Successfully installed Deprecated-1.2.13 pynndescent-0.5.8 scikit-lego-0.6.14 sklego-0.0 umap-learn-0.5.3\n"
          ]
        }
      ]
    },
    {
      "cell_type": "code",
      "source": [
        "from google.colab import drive\n",
        "drive.mount('/content/drive')"
      ],
      "metadata": {
        "colab": {
          "base_uri": "https://localhost:8080/"
        },
        "id": "0-rZg5D0asLe",
        "outputId": "70ebd3f6-b7b4-413a-d994-853430d8f247"
      },
      "execution_count": 2,
      "outputs": [
        {
          "output_type": "stream",
          "name": "stdout",
          "text": [
            "Mounted at /content/drive\n"
          ]
        }
      ]
    },
    {
      "cell_type": "code",
      "source": [
        "!pip install minisom"
      ],
      "metadata": {
        "colab": {
          "base_uri": "https://localhost:8080/"
        },
        "id": "qJsaRxfL6kWK",
        "outputId": "6e813236-d432-4458-8fd4-9769a6b121cd"
      },
      "execution_count": 6,
      "outputs": [
        {
          "output_type": "stream",
          "name": "stdout",
          "text": [
            "Looking in indexes: https://pypi.org/simple, https://us-python.pkg.dev/colab-wheels/public/simple/\n",
            "Collecting minisom\n",
            "  Downloading MiniSom-2.3.1.tar.gz (10 kB)\n",
            "  Preparing metadata (setup.py) ... \u001b[?25l\u001b[?25hdone\n",
            "Building wheels for collected packages: minisom\n",
            "  Building wheel for minisom (setup.py) ... \u001b[?25l\u001b[?25hdone\n",
            "  Created wheel for minisom: filename=MiniSom-2.3.1-py3-none-any.whl size=10609 sha256=59b1d17a6f40a053088a320042287cd7d8f59a5320752a399faa14e840c1a7ba\n",
            "  Stored in directory: /root/.cache/pip/wheels/b4/aa/7a/d9a88098f7877aa95dd4f227fe614f75773654baa39b47bba6\n",
            "Successfully built minisom\n",
            "Installing collected packages: minisom\n",
            "Successfully installed minisom-2.3.1\n"
          ]
        }
      ]
    },
    {
      "cell_type": "markdown",
      "metadata": {
        "id": "Vo97pTU8ajUy"
      },
      "source": [
        "### EDA"
      ]
    },
    {
      "cell_type": "code",
      "execution_count": null,
      "metadata": {
        "colab": {
          "base_uri": "https://localhost:8080/"
        },
        "id": "lKBJTvGAajUz",
        "outputId": "48d290b3-14ad-4212-a5ab-c8e527a2e080"
      },
      "outputs": [
        {
          "output_type": "stream",
          "name": "stdout",
          "text": [
            "<class 'pandas.core.frame.DataFrame'>\n",
            "RangeIndex: 98000 entries, 0 to 97999\n",
            "Data columns (total 30 columns):\n",
            " #   Column  Non-Null Count  Dtype  \n",
            "---  ------  --------------  -----  \n",
            " 0   id      98000 non-null  int64  \n",
            " 1   f_00    98000 non-null  float64\n",
            " 2   f_01    98000 non-null  float64\n",
            " 3   f_02    98000 non-null  float64\n",
            " 4   f_03    98000 non-null  float64\n",
            " 5   f_04    98000 non-null  float64\n",
            " 6   f_05    98000 non-null  float64\n",
            " 7   f_06    98000 non-null  float64\n",
            " 8   f_07    98000 non-null  int64  \n",
            " 9   f_08    98000 non-null  int64  \n",
            " 10  f_09    98000 non-null  int64  \n",
            " 11  f_10    98000 non-null  int64  \n",
            " 12  f_11    98000 non-null  int64  \n",
            " 13  f_12    98000 non-null  int64  \n",
            " 14  f_13    98000 non-null  int64  \n",
            " 15  f_14    98000 non-null  float64\n",
            " 16  f_15    98000 non-null  float64\n",
            " 17  f_16    98000 non-null  float64\n",
            " 18  f_17    98000 non-null  float64\n",
            " 19  f_18    98000 non-null  float64\n",
            " 20  f_19    98000 non-null  float64\n",
            " 21  f_20    98000 non-null  float64\n",
            " 22  f_21    98000 non-null  float64\n",
            " 23  f_22    98000 non-null  float64\n",
            " 24  f_23    98000 non-null  float64\n",
            " 25  f_24    98000 non-null  float64\n",
            " 26  f_25    98000 non-null  float64\n",
            " 27  f_26    98000 non-null  float64\n",
            " 28  f_27    98000 non-null  float64\n",
            " 29  f_28    98000 non-null  float64\n",
            "dtypes: float64(22), int64(8)\n",
            "memory usage: 22.4 MB\n"
          ]
        }
      ],
      "source": [
        "df.info()"
      ]
    },
    {
      "cell_type": "code",
      "execution_count": null,
      "metadata": {
        "id": "Yxk7SUPJajU0",
        "outputId": "de78e682-e614-4e09-98e4-ba5d8b91cc0b"
      },
      "outputs": [
        {
          "data": {
            "image/png": "[encoded data removed]",
            "text/plain": [
              "<Figure size 1440x2016 with 29 Axes>"
            ]
          },
          "metadata": {
            "needs_background": "light"
          },
          "output_type": "display_data"
        }
      ],
      "source": [
        "cols = list(df.columns[1:-1])\n",
        "\n",
        "plt.figure(figsize=(20,28))\n",
        "for index,col in enumerate(cols):\n",
        "    plt.subplot(8,4,index+1)\n",
        "    sns.kdeplot(x = df[col],shade=\"fill\")\n",
        "plt.suptitle(\"Features distribution\")\n",
        "plt.show()"
      ]
    },
    {
      "cell_type": "code",
      "execution_count": null,
      "metadata": {
        "id": "kf4UFfXuajU1",
        "outputId": "38499647-0f05-46be-db12-d89e1aff7045"
      },
      "outputs": [
        {
          "data": {
            "image/png": "[encoded data removed]",
            "text/plain": [
              "<Figure size 576x576 with 2 Axes>"
            ]
          },
          "metadata": {
            "needs_background": "light"
          },
          "output_type": "display_data"
        }
      ],
      "source": [
        "plt.figure(figsize=(8,8))\n",
        "corr = df.corr()\n",
        "mask = np.triu(np.ones_like(corr, dtype=bool)) \n",
        "sns.heatmap(corr, mask=mask, robust=True, center=0,square=True, linewidths=.6,cmap='Blues')\n",
        "plt.title('Correlation')\n",
        "plt.show()"
      ]
    },
    {
      "cell_type": "markdown",
      "metadata": {
        "id": "Vs9IYM9DajU2"
      },
      "source": [
        "### Power Transformer\n",
        "Apply a power transform featurewise to make data more Gaussian-like.  \n",
        "This is useful for modeling issues related to heteroscedasticity (non-constant variance), or other situations where normality is desired.  \n",
        "‘yeo-johnson’, works with positive and negative values.  \n",
        "‘box-cox’, only works with strictly positive values  "
      ]
    },
    {
      "cell_type": "code",
      "execution_count": 7,
      "metadata": {
        "id": "5mHbA8O4EBkG"
      },
      "outputs": [],
      "source": [
        "transformer = PowerTransformer()\n",
        "X_scaled = transformer.fit_transform(df)\n",
        "X_scaled = pd.DataFrame(X_scaled, columns = df.columns)"
      ]
    },
    {
      "cell_type": "code",
      "source": [
        "from minisom import MiniSom\n",
        "import plotly.graph_objects as go\n",
        "def plot_topology(output_layer,size):\n",
        "  num = 0\n",
        "  xdata,ydata = [],[]\n",
        "  for i in range(size):\n",
        "    xxdata , yydata = [],[]\n",
        "    for j in range(size):\n",
        "      xxdata.append(j)\n",
        "      yydata.append(num)\n",
        "    num += 1\n",
        "    xdata.append(xxdata)\n",
        "    ydata.append(yydata)\n",
        "  X,Y,Z = xdata,ydata,output_layer\n",
        "  # Plotly 3D Surface\n",
        "  fig = go.Figure(go.Surface(x=X,y=Y,z=Z,colorscale='Viridis'))\n",
        "  fig.update_layout(scene = {\n",
        "                \"xaxis\": {\"nticks\": 10},\n",
        "                \"yaxis\": {\"nticks\": 10},\n",
        "                \"zaxis\": {\"nticks\": 30},\n",
        "                'camera_eye': {\"x\": 0, \"y\": -1, \"z\": 0.5},\n",
        "                \"aspectratio\": {\"x\": 1, \"y\": 1, \"z\": 1} } )\n",
        "  fig.update_layout(title= f'{size}x{size} output layer', autosize=True, width=700, height=700)\n",
        "  fig.show()\n",
        "x = np.array(X_scaled.drop(['id'],axis = 1) )"
      ],
      "metadata": {
        "colab": {
          "base_uri": "https://localhost:8080/"
        },
        "id": "jQXtthnH7qRk",
        "outputId": "8c4d9fd3-09c2-4e58-8529-2f45ffa21f41"
      },
      "execution_count": 17,
      "outputs": [
        {
          "output_type": "execute_result",
          "data": {
            "text/plain": [
              "array([[-0.38923033, -0.9176516 ,  0.64794789, ...,  0.96034357,\n",
              "         1.04253592,  0.69423431],\n",
              "       [-0.68836849, -0.4586472 ,  0.6531815 , ..., -0.55078306,\n",
              "         0.36724233, -1.63665212],\n",
              "       [ 0.80570898,  0.31939718, -1.16693498, ...,  0.97890003,\n",
              "        -0.92627699, -2.29637322],\n",
              "       ...,\n",
              "       [-0.24952122, -0.46423873,  1.89004336, ...,  1.53918778,\n",
              "         1.17863578,  0.58492927],\n",
              "       [ 0.30967058,  2.17564779,  0.76060792, ..., -1.08546937,\n",
              "        -0.53849102,  0.12909383],\n",
              "       [ 0.75198488,  0.56194787,  1.458479  , ..., -0.63434425,\n",
              "         0.99932833, -0.29691366]])"
            ]
          },
          "metadata": {},
          "execution_count": 17
        }
      ]
    },
    {
      "cell_type": "code",
      "source": [
        "size = 7\n",
        "som = MiniSom(x = size, y = size, input_len=29, sigma=1 ,learning_rate=0.5,neighborhood_function='mexican_hat')\n",
        "som.train(x,500)\n",
        "frequencies=np.zeros((size,size))\n",
        "for position,values in som.win_map(x).items():\n",
        "  frequencies[position[0],position[1]]=len(values)\n",
        "print(frequencies)\n",
        "plot_topology(frequencies,size = size)"
      ],
      "metadata": {
        "colab": {
          "base_uri": "https://localhost:8080/",
          "height": 838
        },
        "id": "CBbCc-34-qip",
        "outputId": "c7609c46-485f-41f8-9326-961e058d4e9a"
      },
      "execution_count": 47,
      "outputs": [
        {
          "output_type": "stream",
          "name": "stdout",
          "text": [
            "[[    0.     0.     0. 12790.     0.     0. 16153.]\n",
            " [12409.     0.     0.     0.     0.     0.     0.]\n",
            " [    0.     0.     0.     0.     0.     0.     0.]\n",
            " [    0.     0.     0.     0. 13852.     0.     0.]\n",
            " [    0.     0.     0.     0.     0.     0.     0.]\n",
            " [14671.     0.     0.     0.     0.     0.     0.]\n",
            " [    0.     0.     0. 12183.     0.     0. 15942.]]\n"
          ]
        },
        {
          "output_type": "display_data",
          "data": {
            "text/html": [
              "<html>\n",
              "<head><meta charset=\"utf-8\" /></head>\n",
              "<body>\n",
              "    <div>            <script src=\"https://cdnjs.cloudflare.com/ajax/libs/mathjax/2.7.5/MathJax.js?config=TeX-AMS-MML_SVG\"></script><script type=\"text/javascript\">if (window.MathJax) {MathJax.Hub.Config({SVG: {font: \"STIX-Web\"}});}</script>                <script type=\"text/javascript\">window.PlotlyConfig = {MathJaxConfig: 'local'};</script>\n",
              "        <script src=\"https://cdn.plot.ly/plotly-2.8.3.min.js\"></script>                <div id=\"7ec41298-aff9-4f73-a339-6c667d18ac39\" class=\"plotly-graph-div\" style=\"height:700px; width:700px;\"></div>            <script type=\"text/javascript\">                                    window.PLOTLYENV=window.PLOTLYENV || {};                                    if (document.getElementById(\"7ec41298-aff9-4f73-a339-6c667d18ac39\")) {                    Plotly.newPlot(                        \"7ec41298-aff9-4f73-a339-6c667d18ac39\",                        [{\"colorscale\":[[0.0,\"#440154\"],[0.1111111111111111,\"#482878\"],[0.2222222222222222,\"#3e4989\"],[0.3333333333333333,\"#31688e\"],[0.4444444444444444,\"#26828e\"],[0.5555555555555556,\"#1f9e89\"],[0.6666666666666666,\"#35b779\"],[0.7777777777777778,\"#6ece58\"],[0.8888888888888888,\"#b5de2b\"],[1.0,\"#fde725\"]],\"x\":[[0,1,2,3,4,5,6],[0,1,2,3,4,5,6],[0,1,2,3,4,5,6],[0,1,2,3,4,5,6],[0,1,2,3,4,5,6],[0,1,2,3,4,5,6],[0,1,2,3,4,5,6]],\"y\":[[0,0,0,0,0,0,0],[1,1,1,1,1,1,1],[2,2,2,2,2,2,2],[3,3,3,3,3,3,3],[4,4,4,4,4,4,4],[5,5,5,5,5,5,5],[6,6,6,6,6,6,6]],\"z\":[[0.0,0.0,0.0,12790.0,0.0,0.0,16153.0],[12409.0,0.0,0.0,0.0,0.0,0.0,0.0],[0.0,0.0,0.0,0.0,0.0,0.0,0.0],[0.0,0.0,0.0,0.0,13852.0,0.0,0.0],[0.0,0.0,0.0,0.0,0.0,0.0,0.0],[14671.0,0.0,0.0,0.0,0.0,0.0,0.0],[0.0,0.0,0.0,12183.0,0.0,0.0,15942.0]],\"type\":\"surface\"}],                        {\"template\":{\"data\":{\"bar\":[{\"error_x\":{\"color\":\"#2a3f5f\"},\"error_y\":{\"color\":\"#2a3f5f\"},\"marker\":{\"line\":{\"color\":\"#E5ECF6\",\"width\":0.5},\"pattern\":{\"fillmode\":\"overlay\",\"size\":10,\"solidity\":0.2}},\"type\":\"bar\"}],\"barpolar\":[{\"marker\":{\"line\":{\"color\":\"#E5ECF6\",\"width\":0.5},\"pattern\":{\"fillmode\":\"overlay\",\"size\":10,\"solidity\":0.2}},\"type\":\"barpolar\"}],\"carpet\":[{\"aaxis\":{\"endlinecolor\":\"#2a3f5f\",\"gridcolor\":\"white\",\"linecolor\":\"white\",\"minorgridcolor\":\"white\",\"startlinecolor\":\"#2a3f5f\"},\"baxis\":{\"endlinecolor\":\"#2a3f5f\",\"gridcolor\":\"white\",\"linecolor\":\"white\",\"minorgridcolor\":\"white\",\"startlinecolor\":\"#2a3f5f\"},\"type\":\"carpet\"}],\"choropleth\":[{\"colorbar\":{\"outlinewidth\":0,\"ticks\":\"\"},\"type\":\"choropleth\"}],\"contour\":[{\"colorbar\":{\"outlinewidth\":0,\"ticks\":\"\"},\"colorscale\":[[0.0,\"#0d0887\"],[0.1111111111111111,\"#46039f\"],[0.2222222222222222,\"#7201a8\"],[0.3333333333333333,\"#9c179e\"],[0.4444444444444444,\"#bd3786\"],[0.5555555555555556,\"#d8576b\"],[0.6666666666666666,\"#ed7953\"],[0.7777777777777778,\"#fb9f3a\"],[0.8888888888888888,\"#fdca26\"],[1.0,\"#f0f921\"]],\"type\":\"contour\"}],\"contourcarpet\":[{\"colorbar\":{\"outlinewidth\":0,\"ticks\":\"\"},\"type\":\"contourcarpet\"}],\"heatmap\":[{\"colorbar\":{\"outlinewidth\":0,\"ticks\":\"\"},\"colorscale\":[[0.0,\"#0d0887\"],[0.1111111111111111,\"#46039f\"],[0.2222222222222222,\"#7201a8\"],[0.3333333333333333,\"#9c179e\"],[0.4444444444444444,\"#bd3786\"],[0.5555555555555556,\"#d8576b\"],[0.6666666666666666,\"#ed7953\"],[0.7777777777777778,\"#fb9f3a\"],[0.8888888888888888,\"#fdca26\"],[1.0,\"#f0f921\"]],\"type\":\"heatmap\"}],\"heatmapgl\":[{\"colorbar\":{\"outlinewidth\":0,\"ticks\":\"\"},\"colorscale\":[[0.0,\"#0d0887\"],[0.1111111111111111,\"#46039f\"],[0.2222222222222222,\"#7201a8\"],[0.3333333333333333,\"#9c179e\"],[0.4444444444444444,\"#bd3786\"],[0.5555555555555556,\"#d8576b\"],[0.6666666666666666,\"#ed7953\"],[0.7777777777777778,\"#fb9f3a\"],[0.8888888888888888,\"#fdca26\"],[1.0,\"#f0f921\"]],\"type\":\"heatmapgl\"}],\"histogram\":[{\"marker\":{\"pattern\":{\"fillmode\":\"overlay\",\"size\":10,\"solidity\":0.2}},\"type\":\"histogram\"}],\"histogram2d\":[{\"colorbar\":{\"outlinewidth\":0,\"ticks\":\"\"},\"colorscale\":[[0.0,\"#0d0887\"],[0.1111111111111111,\"#46039f\"],[0.2222222222222222,\"#7201a8\"],[0.3333333333333333,\"#9c179e\"],[0.4444444444444444,\"#bd3786\"],[0.5555555555555556,\"#d8576b\"],[0.6666666666666666,\"#ed7953\"],[0.7777777777777778,\"#fb9f3a\"],[0.8888888888888888,\"#fdca26\"],[1.0,\"#f0f921\"]],\"type\":\"histogram2d\"}],\"histogram2dcontour\":[{\"colorbar\":{\"outlinewidth\":0,\"ticks\":\"\"},\"colorscale\":[[0.0,\"#0d0887\"],[0.1111111111111111,\"#46039f\"],[0.2222222222222222,\"#7201a8\"],[0.3333333333333333,\"#9c179e\"],[0.4444444444444444,\"#bd3786\"],[0.5555555555555556,\"#d8576b\"],[0.6666666666666666,\"#ed7953\"],[0.7777777777777778,\"#fb9f3a\"],[0.8888888888888888,\"#fdca26\"],[1.0,\"#f0f921\"]],\"type\":\"histogram2dcontour\"}],\"mesh3d\":[{\"colorbar\":{\"outlinewidth\":0,\"ticks\":\"\"},\"type\":\"mesh3d\"}],\"parcoords\":[{\"line\":{\"colorbar\":{\"outlinewidth\":0,\"ticks\":\"\"}},\"type\":\"parcoords\"}],\"pie\":[{\"automargin\":true,\"type\":\"pie\"}],\"scatter\":[{\"marker\":{\"colorbar\":{\"outlinewidth\":0,\"ticks\":\"\"}},\"type\":\"scatter\"}],\"scatter3d\":[{\"line\":{\"colorbar\":{\"outlinewidth\":0,\"ticks\":\"\"}},\"marker\":{\"colorbar\":{\"outlinewidth\":0,\"ticks\":\"\"}},\"type\":\"scatter3d\"}],\"scattercarpet\":[{\"marker\":{\"colorbar\":{\"outlinewidth\":0,\"ticks\":\"\"}},\"type\":\"scattercarpet\"}],\"scattergeo\":[{\"marker\":{\"colorbar\":{\"outlinewidth\":0,\"ticks\":\"\"}},\"type\":\"scattergeo\"}],\"scattergl\":[{\"marker\":{\"colorbar\":{\"outlinewidth\":0,\"ticks\":\"\"}},\"type\":\"scattergl\"}],\"scattermapbox\":[{\"marker\":{\"colorbar\":{\"outlinewidth\":0,\"ticks\":\"\"}},\"type\":\"scattermapbox\"}],\"scatterpolar\":[{\"marker\":{\"colorbar\":{\"outlinewidth\":0,\"ticks\":\"\"}},\"type\":\"scatterpolar\"}],\"scatterpolargl\":[{\"marker\":{\"colorbar\":{\"outlinewidth\":0,\"ticks\":\"\"}},\"type\":\"scatterpolargl\"}],\"scatterternary\":[{\"marker\":{\"colorbar\":{\"outlinewidth\":0,\"ticks\":\"\"}},\"type\":\"scatterternary\"}],\"surface\":[{\"colorbar\":{\"outlinewidth\":0,\"ticks\":\"\"},\"colorscale\":[[0.0,\"#0d0887\"],[0.1111111111111111,\"#46039f\"],[0.2222222222222222,\"#7201a8\"],[0.3333333333333333,\"#9c179e\"],[0.4444444444444444,\"#bd3786\"],[0.5555555555555556,\"#d8576b\"],[0.6666666666666666,\"#ed7953\"],[0.7777777777777778,\"#fb9f3a\"],[0.8888888888888888,\"#fdca26\"],[1.0,\"#f0f921\"]],\"type\":\"surface\"}],\"table\":[{\"cells\":{\"fill\":{\"color\":\"#EBF0F8\"},\"line\":{\"color\":\"white\"}},\"header\":{\"fill\":{\"color\":\"#C8D4E3\"},\"line\":{\"color\":\"white\"}},\"type\":\"table\"}]},\"layout\":{\"annotationdefaults\":{\"arrowcolor\":\"#2a3f5f\",\"arrowhead\":0,\"arrowwidth\":1},\"autotypenumbers\":\"strict\",\"coloraxis\":{\"colorbar\":{\"outlinewidth\":0,\"ticks\":\"\"}},\"colorscale\":{\"diverging\":[[0,\"#8e0152\"],[0.1,\"#c51b7d\"],[0.2,\"#de77ae\"],[0.3,\"#f1b6da\"],[0.4,\"#fde0ef\"],[0.5,\"#f7f7f7\"],[0.6,\"#e6f5d0\"],[0.7,\"#b8e186\"],[0.8,\"#7fbc41\"],[0.9,\"#4d9221\"],[1,\"#276419\"]],\"sequential\":[[0.0,\"#0d0887\"],[0.1111111111111111,\"#46039f\"],[0.2222222222222222,\"#7201a8\"],[0.3333333333333333,\"#9c179e\"],[0.4444444444444444,\"#bd3786\"],[0.5555555555555556,\"#d8576b\"],[0.6666666666666666,\"#ed7953\"],[0.7777777777777778,\"#fb9f3a\"],[0.8888888888888888,\"#fdca26\"],[1.0,\"#f0f921\"]],\"sequentialminus\":[[0.0,\"#0d0887\"],[0.1111111111111111,\"#46039f\"],[0.2222222222222222,\"#7201a8\"],[0.3333333333333333,\"#9c179e\"],[0.4444444444444444,\"#bd3786\"],[0.5555555555555556,\"#d8576b\"],[0.6666666666666666,\"#ed7953\"],[0.7777777777777778,\"#fb9f3a\"],[0.8888888888888888,\"#fdca26\"],[1.0,\"#f0f921\"]]},\"colorway\":[\"#636efa\",\"#EF553B\",\"#00cc96\",\"#ab63fa\",\"#FFA15A\",\"#19d3f3\",\"#FF6692\",\"#B6E880\",\"#FF97FF\",\"#FECB52\"],\"font\":{\"color\":\"#2a3f5f\"},\"geo\":{\"bgcolor\":\"white\",\"lakecolor\":\"white\",\"landcolor\":\"#E5ECF6\",\"showlakes\":true,\"showland\":true,\"subunitcolor\":\"white\"},\"hoverlabel\":{\"align\":\"left\"},\"hovermode\":\"closest\",\"mapbox\":{\"style\":\"light\"},\"paper_bgcolor\":\"white\",\"plot_bgcolor\":\"#E5ECF6\",\"polar\":{\"angularaxis\":{\"gridcolor\":\"white\",\"linecolor\":\"white\",\"ticks\":\"\"},\"bgcolor\":\"#E5ECF6\",\"radialaxis\":{\"gridcolor\":\"white\",\"linecolor\":\"white\",\"ticks\":\"\"}},\"scene\":{\"xaxis\":{\"backgroundcolor\":\"#E5ECF6\",\"gridcolor\":\"white\",\"gridwidth\":2,\"linecolor\":\"white\",\"showbackground\":true,\"ticks\":\"\",\"zerolinecolor\":\"white\"},\"yaxis\":{\"backgroundcolor\":\"#E5ECF6\",\"gridcolor\":\"white\",\"gridwidth\":2,\"linecolor\":\"white\",\"showbackground\":true,\"ticks\":\"\",\"zerolinecolor\":\"white\"},\"zaxis\":{\"backgroundcolor\":\"#E5ECF6\",\"gridcolor\":\"white\",\"gridwidth\":2,\"linecolor\":\"white\",\"showbackground\":true,\"ticks\":\"\",\"zerolinecolor\":\"white\"}},\"shapedefaults\":{\"line\":{\"color\":\"#2a3f5f\"}},\"ternary\":{\"aaxis\":{\"gridcolor\":\"white\",\"linecolor\":\"white\",\"ticks\":\"\"},\"baxis\":{\"gridcolor\":\"white\",\"linecolor\":\"white\",\"ticks\":\"\"},\"bgcolor\":\"#E5ECF6\",\"caxis\":{\"gridcolor\":\"white\",\"linecolor\":\"white\",\"ticks\":\"\"}},\"title\":{\"x\":0.05},\"xaxis\":{\"automargin\":true,\"gridcolor\":\"white\",\"linecolor\":\"white\",\"ticks\":\"\",\"title\":{\"standoff\":15},\"zerolinecolor\":\"white\",\"zerolinewidth\":2},\"yaxis\":{\"automargin\":true,\"gridcolor\":\"white\",\"linecolor\":\"white\",\"ticks\":\"\",\"title\":{\"standoff\":15},\"zerolinecolor\":\"white\",\"zerolinewidth\":2}}},\"scene\":{\"xaxis\":{\"nticks\":10},\"yaxis\":{\"nticks\":10},\"zaxis\":{\"nticks\":30},\"camera\":{\"eye\":{\"x\":0,\"y\":-1,\"z\":0.5}},\"aspectratio\":{\"x\":1,\"y\":1,\"z\":1}},\"title\":{\"text\":\"7x7 output layer\"},\"autosize\":true,\"width\":700,\"height\":700},                        {\"responsive\": true}                    ).then(function(){\n",
              "                            \n",
              "var gd = document.getElementById('7ec41298-aff9-4f73-a339-6c667d18ac39');\n",
              "var x = new MutationObserver(function (mutations, observer) {{\n",
              "        var display = window.getComputedStyle(gd).display;\n",
              "        if (!display || display === 'none') {{\n",
              "            console.log([gd, 'removed!']);\n",
              "            Plotly.purge(gd);\n",
              "            observer.disconnect();\n",
              "        }}\n",
              "}});\n",
              "\n",
              "// Listen for the removal of the full notebook cells\n",
              "var notebookContainer = gd.closest('#notebook-container');\n",
              "if (notebookContainer) {{\n",
              "    x.observe(notebookContainer, {childList: true});\n",
              "}}\n",
              "\n",
              "// Listen for the clearing of the current output cell\n",
              "var outputEl = gd.closest('.output');\n",
              "if (outputEl) {{\n",
              "    x.observe(outputEl, {childList: true});\n",
              "}}\n",
              "\n",
              "                        })                };                            </script>        </div>\n",
              "</body>\n",
              "</html>"
            ]
          },
          "metadata": {}
        }
      ]
    },
    {
      "cell_type": "markdown",
      "metadata": {
        "id": "rYaLsh7BajU4"
      },
      "source": [
        "### Optimal Number of Clusters\n",
        "* Find the optimal number of clusters using a Gaussian Mixture Model.\n",
        "* Using the Bayesian Information Criterion (BIC), The goal is to minimise the BIC score."
      ]
    },
    {
      "cell_type": "code",
      "execution_count": null,
      "metadata": {
        "id": "B82VSI6VajU5"
      },
      "outputs": [],
      "source": [
        "def components_number_multiple(max_n, n_seeds):\n",
        "    bic_scores = []\n",
        "    for n in range(2,max_n):\n",
        "        bic_scores_n = []\n",
        "        for seed in range(n_seeds):\n",
        "            gmm = GaussianMixture(n_components=n, covariance_type = 'full', n_init=3, random_state=seed)\n",
        "            gmm.fit(X_scaled)\n",
        "            bic_scores_n.append(gmm.bic(X_scaled))\n",
        "        bic_scores.append(bic_scores_n)\n",
        "    return bic_scores\n",
        "\n",
        "def plot_components_number_multiple(max_n, n_seeds):\n",
        "    bic_scores = components_number_multiple(max_n + 1, n_seeds)\n",
        "    bic_df = pd.DataFrame(data = bic_scores).T\n",
        "    bic_df.columns = range(2,max_n+1)\n",
        "    \n",
        "    f,ax = plt.subplots(figsize=(20,7))\n",
        "    for i in range(n_seeds):\n",
        "        sns.lineplot(x=bic_df.columns, y=bic_df.loc[i].values)\n",
        "    ax.set_xticks(range(2,max_n+1))\n",
        "    \n",
        "    return bic_df\n",
        "\n",
        "a = plot_components_number_multiple(max_n = 15, n_seeds = 10)"
      ]
    },
    {
      "cell_type": "markdown",
      "metadata": {
        "id": "AslV8gyYajU6"
      },
      "source": [
        "### Feature Importance\n"
      ]
    },
    {
      "cell_type": "code",
      "execution_count": null,
      "metadata": {
        "id": "YioZaI6YEBkG"
      },
      "outputs": [],
      "source": [
        "bgmm = BayesianGaussianMixture(n_components=7, covariance_type = 'full', n_init=3, random_state=42,max_iter=1000)\n",
        "predicted_class = bgmm.fit_predict(X_scaled)\n",
        "df[\"class\"] = predicted_class"
      ]
    },
    {
      "cell_type": "code",
      "execution_count": null,
      "metadata": {
        "id": "RctVyNF5ajU7",
        "outputId": "cb829d40-bdb0-4b87-88df-a51d1e26abdb"
      },
      "outputs": [
        {
          "name": "stdout",
          "output_type": "stream",
          "text": [
            "['f_07', 'f_08', 'f_09', 'f_10', 'f_11', 'f_12', 'f_13', 'f_22', 'f_23', 'f_24', 'f_25', 'f_26', 'f_27', 'f_28']\n"
          ]
        },
        {
          "name": "stderr",
          "output_type": "stream",
          "text": [
            "c:\\Users\\assd4\\anaconda3\\envs\\tf_2.6_py_3.9\\lib\\site-packages\\scipy\\stats\\morestats.py:1760: UserWarning: p-value may not be accurate for N > 5000.\n",
            "  warnings.warn(\"p-value may not be accurate for N > 5000.\")\n"
          ]
        }
      ],
      "source": [
        "\n",
        "cols_select = []\n",
        "alpha = 0.05\n",
        "\n",
        "for col in df.columns[1:-1]:\n",
        "    stat, p_value = shapiro(df[col])\n",
        "    if (p_value <= alpha): \n",
        "        cols_select.append(col)       \n",
        "print(cols_select)  "
      ]
    },
    {
      "cell_type": "code",
      "execution_count": null,
      "metadata": {
        "id": "3r1aRuzREBkH"
      },
      "outputs": [],
      "source": [
        "best_cols = ['f_07','f_08', 'f_09', 'f_10','f_11', 'f_12', 'f_13', 'f_22','f_23', 'f_24', 'f_25','f_26','f_27', 'f_28']"
      ]
    },
    {
      "cell_type": "markdown",
      "metadata": {
        "id": "0vBTqijhajU8"
      },
      "source": [
        "### Unsupervosed learning- Clustering"
      ]
    },
    {
      "cell_type": "markdown",
      "metadata": {
        "id": "DeXlN2pyajU8"
      },
      "source": [
        "### Evaluate clustering performance \n",
        "* Silhoutte Coefficient  \n",
        "The score is higher when clusters are dense and well separated, which relates to a standard concept of a cluster.  \n",
        "The score is bounded between -1 for incorrect clustering and +1 for highly dense clustering. Scores around zero indicate overlapping clusters.\n",
        "\n",
        "* Calinski-Harabasz Index  \n",
        "The score is higher when clusters are dense and well separated\n",
        "\n",
        "\n",
        "* Davies-Bouldin Index  \n",
        "Lower Davies-Bouldin index relates to a model with better separation between the cluster"
      ]
    },
    {
      "cell_type": "code",
      "execution_count": null,
      "metadata": {
        "id": "2L2JRa-qEBkH"
      },
      "outputs": [],
      "source": [
        "def score_clusters(X, predictions, silhouette = True, verbose=False):\n",
        "\n",
        "    db_score = davies_bouldin_score(X=X, labels=predictions)\n",
        "    ch_score = calinski_harabasz_score(X=X, labels=predictions)\n",
        "    s_score = silhouette_score(X=X, labels=predictions, metric='euclidean')\n",
        "    \n",
        "    if verbose:\n",
        "        print(\"David Bouldin score: {0:0.4f}\".format(db_score))\n",
        "        print(\"Calinski Harabasz score: {0:0.3f}\".format(ch_score))\n",
        "        print(\"Silhouette score: {0:0.4f}\".format(s_score))\n",
        "    return db_score, ch_score, s_score"
      ]
    },
    {
      "cell_type": "markdown",
      "metadata": {
        "id": "oICO5wq9ajU8"
      },
      "source": [
        "###  soft voting\n",
        "Gausian Mixture Models can output probabilities, so we fit the model multiple times with different random seeds and sum the predicted probabilities. The class with the highest predicted probability will then be use for the final class assignment.\n",
        "\n",
        "The main challenge in implementing this is each time that we fit the model, the model will output different cluster labels. To get around this we calculate the distance between between the cluster centroids from the first model and the cluster centroids of each subsequently fitted model. The cluster centroid of a class will be in a similar locations each time the model is fit, even though the randomly assigned label for that cluster may be different. We can use this info to ensure we are consistent with the cluster label assignments from the first fitted model. This is not a perfect solution, as it relies on the cluster centroids being in similar locations for each (B)GMM fit, but it seems sufficient."
      ]
    },
    {
      "cell_type": "code",
      "execution_count": null,
      "metadata": {
        "id": "SA4Hm73gEBkI"
      },
      "outputs": [],
      "source": [
        "def soft_voting(predict_number, best_cols = best_cols):\n",
        "    #initialise dataframe with 0's\n",
        "    predicted_probabilities = pd.DataFrame(np.zeros((len(df),7)), columns=range(1,8))\n",
        "    # loop with a different random seeds\n",
        "    for i in range(predict_number): #跑i次不同的分群結果\n",
        "        print(\"=========\", i, \"==========\")\n",
        "        X_scaled_sample = X_scaled.sample(40000)\n",
        "        gmm = BayesianGaussianMixture(n_components=7, covariance_type = 'full',\n",
        "                                      weight_concentration_prior_type=\"dirichlet_distribution\", max_iter=300, init_params=\"kmeans\", n_init=3, random_state=i)\n",
        "        gmm.fit(X_scaled_sample[best_cols])\n",
        "        pred_probs = gmm.predict_proba(X_scaled[best_cols])\n",
        "        pred_probs = pd.DataFrame(pred_probs, columns=range(1,8))\n",
        "        \n",
        "        # ensuring clusters are labeled the same value at each fit\n",
        "        if i == 0: #起始的分群中心點\n",
        "            initial_centers = gmm.means_\n",
        "        new_classes = []\n",
        "        for mean2 in gmm.means_:  #對於目前gmm的中心，找到初始gmm中心與於目前中心的線性距離\n",
        "            distances = [np.linalg.norm(mean1-mean2) for mean1 in initial_centers]\n",
        "            # select the class with the minimum distance\n",
        "            new_class = np.argmin(distances) + 1 #add 1 as our labels are 1-7 but index is 0-6\n",
        "            new_classes.append(new_class)\n",
        "        # if the mapping from old cluster labels to new cluster labels isn't 1 to 1\n",
        "        if len(new_classes) != len(set(new_classes)):\n",
        "            print(\"iteration\", i, \"could not determine the cluster label mapping, skipping\")\n",
        "            continue\n",
        "        #apply the mapping by renaming the dataframe columns representing the original labels to the new labels    \n",
        "        pred_probs = pred_probs.rename(columns=dict(zip(range(1,8),new_classes)))\n",
        "        \n",
        "        #add the current prediction probabilities to the overall prediction probabilities\n",
        "        predicted_probabilities = predicted_probabilities + pred_probs\n",
        "        # lets score the cluster labels each iteration to see if soft voting is helpful\n",
        "        score_clusters(X_scaled[best_cols], predicted_probabilities.idxmax(axis=1), verbose=True)\n",
        "    \n",
        "    #normalise dataframe so each row sums to 1\n",
        "    predicted_probabilities = predicted_probabilities.div(predicted_probabilities.sum(axis=1), axis=0)\n",
        "    return predicted_probabilities"
      ]
    },
    {
      "cell_type": "code",
      "execution_count": null,
      "metadata": {
        "colab": {
          "base_uri": "https://localhost:8080/"
        },
        "id": "ql4snj-KEBkI",
        "outputId": "51eac175-59f3-4d03-beee-6c1b3d69ff36"
      },
      "outputs": [
        {
          "name": "stdout",
          "output_type": "stream",
          "text": [
            "========= 0 ==========\n",
            "David Bouldin score: 3.6476\n",
            "Calinski Harabasz score: 3784.693\n",
            "Silhouette score: 0.0350\n",
            "========= 1 ==========\n",
            "David Bouldin score: 3.6847\n",
            "Calinski Harabasz score: 3821.617\n",
            "Silhouette score: 0.0366\n",
            "========= 2 ==========\n",
            "David Bouldin score: 3.6485\n",
            "Calinski Harabasz score: 3806.200\n",
            "Silhouette score: 0.0358\n",
            "========= 3 ==========\n",
            "David Bouldin score: 3.6388\n",
            "Calinski Harabasz score: 3803.857\n",
            "Silhouette score: 0.0357\n",
            "========= 4 ==========\n",
            "David Bouldin score: 3.6356\n",
            "Calinski Harabasz score: 3801.864\n",
            "Silhouette score: 0.0356\n",
            "========= 5 ==========\n",
            "David Bouldin score: 3.6326\n",
            "Calinski Harabasz score: 3802.680\n",
            "Silhouette score: 0.0356\n",
            "========= 6 ==========\n",
            "David Bouldin score: 3.6282\n",
            "Calinski Harabasz score: 3804.048\n",
            "Silhouette score: 0.0356\n",
            "========= 7 ==========\n",
            "David Bouldin score: 3.6280\n",
            "Calinski Harabasz score: 3803.864\n",
            "Silhouette score: 0.0356\n",
            "========= 8 ==========\n",
            "David Bouldin score: 3.6266\n",
            "Calinski Harabasz score: 3804.814\n",
            "Silhouette score: 0.0356\n",
            "========= 9 ==========\n",
            "David Bouldin score: 3.6274\n",
            "Calinski Harabasz score: 3804.007\n",
            "Silhouette score: 0.0355\n"
          ]
        }
      ],
      "source": [
        "pred_probs = soft_voting(10)"
      ]
    },
    {
      "cell_type": "code",
      "execution_count": null,
      "metadata": {
        "colab": {
          "base_uri": "https://localhost:8080/"
        },
        "id": "oBchbzqgEBkJ",
        "outputId": "85214f4f-347d-48e8-ba73-e23edc13473d"
      },
      "outputs": [
        {
          "name": "stdout",
          "output_type": "stream",
          "text": [
            "David Bouldin score: 3.6274\n",
            "Calinski Harabasz score: 3804.007\n",
            "Silhouette score: 0.0355\n"
          ]
        },
        {
          "data": {
            "text/plain": [
              "(3.6274205508914457, 3804.0072838769956, 0.035538983546180694)"
            ]
          },
          "execution_count": 9,
          "metadata": {},
          "output_type": "execute_result"
        }
      ],
      "source": [
        "score_clusters(X_scaled[best_cols],pred_probs.idxmax(axis=1), verbose=True)"
      ]
    },
    {
      "cell_type": "code",
      "execution_count": null,
      "metadata": {
        "id": "0Y50og04EBkJ"
      },
      "outputs": [],
      "source": [
        "def best_class(df):\n",
        "    new_df = df.copy()\n",
        "    new_df[\"highest_prob\"] = df.max(axis=1)\n",
        "    new_df[\"best_class\"] = df.idxmax(axis=1)\n",
        "    new_df[\"second_highest_prob\"] = df.apply(lambda x: x.nlargest(2).values[-1], axis=1)\n",
        "    new_df[\"second_best_class\"] = df.apply(lambda x: np.where(x == x.nlargest(2).values[-1])[0][0]+1, axis=1)\n",
        "    return new_df"
      ]
    },
    {
      "cell_type": "code",
      "execution_count": null,
      "metadata": {
        "colab": {
          "base_uri": "https://localhost:8080/",
          "height": 206
        },
        "id": "t9ov8i-6EBkK",
        "outputId": "6427dbc3-9ecd-4783-bcb6-17051c781b65"
      },
      "outputs": [
        {
          "data": {
            "text/html": [
              "<div>\n",
              "<style scoped>\n",
              "    .dataframe tbody tr th:only-of-type {\n",
              "        vertical-align: middle;\n",
              "    }\n",
              "\n",
              "    .dataframe tbody tr th {\n",
              "        vertical-align: top;\n",
              "    }\n",
              "\n",
              "    .dataframe thead th {\n",
              "        text-align: right;\n",
              "    }\n",
              "</style>\n",
              "<table border=\"1\" class=\"dataframe\">\n",
              "  <thead>\n",
              "    <tr style=\"text-align: right;\">\n",
              "      <th></th>\n",
              "      <th>1</th>\n",
              "      <th>2</th>\n",
              "      <th>3</th>\n",
              "      <th>4</th>\n",
              "      <th>5</th>\n",
              "      <th>6</th>\n",
              "      <th>7</th>\n",
              "      <th>highest_prob</th>\n",
              "      <th>best_class</th>\n",
              "      <th>second_highest_prob</th>\n",
              "      <th>second_best_class</th>\n",
              "    </tr>\n",
              "  </thead>\n",
              "  <tbody>\n",
              "    <tr>\n",
              "      <th>0</th>\n",
              "      <td>0.003660</td>\n",
              "      <td>0.976273</td>\n",
              "      <td>0.003615</td>\n",
              "      <td>0.000381</td>\n",
              "      <td>0.002752</td>\n",
              "      <td>4.582550e-07</td>\n",
              "      <td>0.013319</td>\n",
              "      <td>0.976273</td>\n",
              "      <td>2</td>\n",
              "      <td>0.013319</td>\n",
              "      <td>7</td>\n",
              "    </tr>\n",
              "    <tr>\n",
              "      <th>1</th>\n",
              "      <td>0.015032</td>\n",
              "      <td>0.000288</td>\n",
              "      <td>0.000009</td>\n",
              "      <td>0.002688</td>\n",
              "      <td>0.028390</td>\n",
              "      <td>1.358033e-02</td>\n",
              "      <td>0.940012</td>\n",
              "      <td>0.940012</td>\n",
              "      <td>7</td>\n",
              "      <td>0.028390</td>\n",
              "      <td>5</td>\n",
              "    </tr>\n",
              "    <tr>\n",
              "      <th>2</th>\n",
              "      <td>0.000129</td>\n",
              "      <td>0.797394</td>\n",
              "      <td>0.200596</td>\n",
              "      <td>0.001476</td>\n",
              "      <td>0.000024</td>\n",
              "      <td>1.009115e-08</td>\n",
              "      <td>0.000382</td>\n",
              "      <td>0.797394</td>\n",
              "      <td>2</td>\n",
              "      <td>0.200596</td>\n",
              "      <td>3</td>\n",
              "    </tr>\n",
              "    <tr>\n",
              "      <th>3</th>\n",
              "      <td>0.000046</td>\n",
              "      <td>0.000015</td>\n",
              "      <td>0.093204</td>\n",
              "      <td>0.027000</td>\n",
              "      <td>0.010587</td>\n",
              "      <td>8.549723e-01</td>\n",
              "      <td>0.014177</td>\n",
              "      <td>0.854972</td>\n",
              "      <td>6</td>\n",
              "      <td>0.093204</td>\n",
              "      <td>3</td>\n",
              "    </tr>\n",
              "    <tr>\n",
              "      <th>4</th>\n",
              "      <td>0.000190</td>\n",
              "      <td>0.000004</td>\n",
              "      <td>0.000009</td>\n",
              "      <td>0.978346</td>\n",
              "      <td>0.000003</td>\n",
              "      <td>7.435272e-07</td>\n",
              "      <td>0.021448</td>\n",
              "      <td>0.978346</td>\n",
              "      <td>4</td>\n",
              "      <td>0.021448</td>\n",
              "      <td>7</td>\n",
              "    </tr>\n",
              "  </tbody>\n",
              "</table>\n",
              "</div>"
            ],
            "text/plain": [
              "          1         2         3         4         5             6         7  \\\n",
              "0  0.003660  0.976273  0.003615  0.000381  0.002752  4.582550e-07  0.013319   \n",
              "1  0.015032  0.000288  0.000009  0.002688  0.028390  1.358033e-02  0.940012   \n",
              "2  0.000129  0.797394  0.200596  0.001476  0.000024  1.009115e-08  0.000382   \n",
              "3  0.000046  0.000015  0.093204  0.027000  0.010587  8.549723e-01  0.014177   \n",
              "4  0.000190  0.000004  0.000009  0.978346  0.000003  7.435272e-07  0.021448   \n",
              "\n",
              "   highest_prob  best_class  second_highest_prob  second_best_class  \n",
              "0      0.976273           2             0.013319                  7  \n",
              "1      0.940012           7             0.028390                  5  \n",
              "2      0.797394           2             0.200596                  3  \n",
              "3      0.854972           6             0.093204                  3  \n",
              "4      0.978346           4             0.021448                  7  "
            ]
          },
          "execution_count": 11,
          "metadata": {},
          "output_type": "execute_result"
        }
      ],
      "source": [
        "cluster_class_probs = best_class(pred_probs)\n",
        "cluster_class_probs.head()"
      ]
    },
    {
      "cell_type": "markdown",
      "metadata": {
        "id": "U3TGA9TvajU_"
      },
      "source": [
        "### Supervised learning - Classification\n",
        "* Adopting a semi-supervised approach for clustering\n",
        "* We fit our classification model using points the clustering algorithm was confident that it got correct.\n",
        "* We use the classification model to predict the points it was not confident that it got correct.\n",
        "* The hope is that the classification algorithm is better than the clustering algorithm. If this is true we can trust the classification algorithms predictions more than the clustering algorithms predictions and improve our score. "
      ]
    },
    {
      "cell_type": "code",
      "execution_count": null,
      "metadata": {
        "id": "eLCgehiBEBkK"
      },
      "outputs": [],
      "source": [
        "confident_predictions = cluster_class_probs.loc[cluster_class_probs[\"highest_prob\"] >= 0.8] #只取最高機率大於0.8的資料 \n",
        "confident_predictions_class = confident_predictions[\"best_class\"] #62270筆資料\n",
        "X_scaled[\"class\"] = confident_predictions_class #將分群結果加入原始資料集作為Label"
      ]
    },
    {
      "cell_type": "code",
      "execution_count": null,
      "metadata": {
        "id": "7tGclIGqajVA",
        "outputId": "5de4c7d0-fa0a-4e2e-b899-a5754188e02b"
      },
      "outputs": [
        {
          "data": {
            "text/html": [
              "<div>\n",
              "<style scoped>\n",
              "    .dataframe tbody tr th:only-of-type {\n",
              "        vertical-align: middle;\n",
              "    }\n",
              "\n",
              "    .dataframe tbody tr th {\n",
              "        vertical-align: top;\n",
              "    }\n",
              "\n",
              "    .dataframe thead th {\n",
              "        text-align: right;\n",
              "    }\n",
              "</style>\n",
              "<table border=\"1\" class=\"dataframe\">\n",
              "  <thead>\n",
              "    <tr style=\"text-align: right;\">\n",
              "      <th></th>\n",
              "      <th>id</th>\n",
              "      <th>f_00</th>\n",
              "      <th>f_01</th>\n",
              "      <th>f_02</th>\n",
              "      <th>f_03</th>\n",
              "      <th>f_04</th>\n",
              "      <th>f_05</th>\n",
              "      <th>f_06</th>\n",
              "      <th>f_07</th>\n",
              "      <th>f_08</th>\n",
              "      <th>...</th>\n",
              "      <th>f_20</th>\n",
              "      <th>f_21</th>\n",
              "      <th>f_22</th>\n",
              "      <th>f_23</th>\n",
              "      <th>f_24</th>\n",
              "      <th>f_25</th>\n",
              "      <th>f_26</th>\n",
              "      <th>f_27</th>\n",
              "      <th>f_28</th>\n",
              "      <th>class</th>\n",
              "    </tr>\n",
              "  </thead>\n",
              "  <tbody>\n",
              "    <tr>\n",
              "      <th>0</th>\n",
              "      <td>-2.196170</td>\n",
              "      <td>-0.389230</td>\n",
              "      <td>-0.917652</td>\n",
              "      <td>0.647948</td>\n",
              "      <td>0.590717</td>\n",
              "      <td>-0.824836</td>\n",
              "      <td>0.734685</td>\n",
              "      <td>2.259470</td>\n",
              "      <td>-0.977987</td>\n",
              "      <td>1.383372</td>\n",
              "      <td>...</td>\n",
              "      <td>-0.753925</td>\n",
              "      <td>-0.763110</td>\n",
              "      <td>-0.707876</td>\n",
              "      <td>0.911477</td>\n",
              "      <td>-0.678852</td>\n",
              "      <td>0.768543</td>\n",
              "      <td>0.960344</td>\n",
              "      <td>1.042536</td>\n",
              "      <td>0.694234</td>\n",
              "      <td>2.0</td>\n",
              "    </tr>\n",
              "    <tr>\n",
              "      <th>1</th>\n",
              "      <td>-2.195469</td>\n",
              "      <td>-0.688368</td>\n",
              "      <td>-0.458647</td>\n",
              "      <td>0.653182</td>\n",
              "      <td>0.995359</td>\n",
              "      <td>-1.644030</td>\n",
              "      <td>0.864898</td>\n",
              "      <td>-0.085604</td>\n",
              "      <td>-0.977987</td>\n",
              "      <td>-0.875405</td>\n",
              "      <td>...</td>\n",
              "      <td>-0.088164</td>\n",
              "      <td>-1.777545</td>\n",
              "      <td>-0.535582</td>\n",
              "      <td>0.453824</td>\n",
              "      <td>1.031505</td>\n",
              "      <td>-0.117686</td>\n",
              "      <td>-0.550783</td>\n",
              "      <td>0.367242</td>\n",
              "      <td>-1.636652</td>\n",
              "      <td>7.0</td>\n",
              "    </tr>\n",
              "    <tr>\n",
              "      <th>2</th>\n",
              "      <td>-2.194869</td>\n",
              "      <td>0.805709</td>\n",
              "      <td>0.319397</td>\n",
              "      <td>-1.166935</td>\n",
              "      <td>-0.622421</td>\n",
              "      <td>0.108371</td>\n",
              "      <td>0.785018</td>\n",
              "      <td>1.990489</td>\n",
              "      <td>0.021718</td>\n",
              "      <td>1.017648</td>\n",
              "      <td>...</td>\n",
              "      <td>-1.598612</td>\n",
              "      <td>1.194423</td>\n",
              "      <td>2.203065</td>\n",
              "      <td>0.086974</td>\n",
              "      <td>-1.519163</td>\n",
              "      <td>-0.568662</td>\n",
              "      <td>0.978900</td>\n",
              "      <td>-0.926277</td>\n",
              "      <td>-2.296373</td>\n",
              "      <td>NaN</td>\n",
              "    </tr>\n",
              "    <tr>\n",
              "      <th>3</th>\n",
              "      <td>-2.194325</td>\n",
              "      <td>-0.500469</td>\n",
              "      <td>0.223997</td>\n",
              "      <td>0.262677</td>\n",
              "      <td>0.234061</td>\n",
              "      <td>0.417047</td>\n",
              "      <td>-1.218768</td>\n",
              "      <td>0.144455</td>\n",
              "      <td>0.286548</td>\n",
              "      <td>-1.213526</td>\n",
              "      <td>...</td>\n",
              "      <td>1.283827</td>\n",
              "      <td>0.532884</td>\n",
              "      <td>0.731623</td>\n",
              "      <td>-1.218086</td>\n",
              "      <td>0.826492</td>\n",
              "      <td>-1.173592</td>\n",
              "      <td>-0.395085</td>\n",
              "      <td>-0.100021</td>\n",
              "      <td>0.326682</td>\n",
              "      <td>6.0</td>\n",
              "    </tr>\n",
              "    <tr>\n",
              "      <th>4</th>\n",
              "      <td>-2.193820</td>\n",
              "      <td>-0.670427</td>\n",
              "      <td>-1.044482</td>\n",
              "      <td>-0.270854</td>\n",
              "      <td>-1.833338</td>\n",
              "      <td>-0.285955</td>\n",
              "      <td>-1.849243</td>\n",
              "      <td>0.787627</td>\n",
              "      <td>0.756900</td>\n",
              "      <td>0.187543</td>\n",
              "      <td>...</td>\n",
              "      <td>-0.432406</td>\n",
              "      <td>0.321899</td>\n",
              "      <td>0.228337</td>\n",
              "      <td>-1.482684</td>\n",
              "      <td>0.847999</td>\n",
              "      <td>-0.613935</td>\n",
              "      <td>1.164389</td>\n",
              "      <td>-0.374203</td>\n",
              "      <td>-1.160058</td>\n",
              "      <td>4.0</td>\n",
              "    </tr>\n",
              "  </tbody>\n",
              "</table>\n",
              "<p>5 rows × 31 columns</p>\n",
              "</div>"
            ],
            "text/plain": [
              "         id      f_00      f_01      f_02      f_03      f_04      f_05  \\\n",
              "0 -2.196170 -0.389230 -0.917652  0.647948  0.590717 -0.824836  0.734685   \n",
              "1 -2.195469 -0.688368 -0.458647  0.653182  0.995359 -1.644030  0.864898   \n",
              "2 -2.194869  0.805709  0.319397 -1.166935 -0.622421  0.108371  0.785018   \n",
              "3 -2.194325 -0.500469  0.223997  0.262677  0.234061  0.417047 -1.218768   \n",
              "4 -2.193820 -0.670427 -1.044482 -0.270854 -1.833338 -0.285955 -1.849243   \n",
              "\n",
              "       f_06      f_07      f_08  ...      f_20      f_21      f_22      f_23  \\\n",
              "0  2.259470 -0.977987  1.383372  ... -0.753925 -0.763110 -0.707876  0.911477   \n",
              "1 -0.085604 -0.977987 -0.875405  ... -0.088164 -1.777545 -0.535582  0.453824   \n",
              "2  1.990489  0.021718  1.017648  ... -1.598612  1.194423  2.203065  0.086974   \n",
              "3  0.144455  0.286548 -1.213526  ...  1.283827  0.532884  0.731623 -1.218086   \n",
              "4  0.787627  0.756900  0.187543  ... -0.432406  0.321899  0.228337 -1.482684   \n",
              "\n",
              "       f_24      f_25      f_26      f_27      f_28  class  \n",
              "0 -0.678852  0.768543  0.960344  1.042536  0.694234    2.0  \n",
              "1  1.031505 -0.117686 -0.550783  0.367242 -1.636652    7.0  \n",
              "2 -1.519163 -0.568662  0.978900 -0.926277 -2.296373    NaN  \n",
              "3  0.826492 -1.173592 -0.395085 -0.100021  0.326682    6.0  \n",
              "4  0.847999 -0.613935  1.164389 -0.374203 -1.160058    4.0  \n",
              "\n",
              "[5 rows x 31 columns]"
            ]
          },
          "execution_count": 13,
          "metadata": {},
          "output_type": "execute_result"
        }
      ],
      "source": [
        "X_scaled.head()"
      ]
    },
    {
      "cell_type": "code",
      "execution_count": null,
      "metadata": {
        "id": "VHIp76kuEBkK"
      },
      "outputs": [],
      "source": [
        "train_df = X_scaled.loc[X_scaled[\"class\"] == X_scaled[\"class\"]] #將有Class Label的資料作為訓練資料\n",
        "test_df = X_scaled.loc[X_scaled[\"class\"] != X_scaled[\"class\"]] #Class Label為NaN的資料做測試資料"
      ]
    },
    {
      "cell_type": "code",
      "execution_count": null,
      "metadata": {
        "id": "PB9TrH5cEBkK"
      },
      "outputs": [],
      "source": [
        "X = train_df.drop([\"class\"],axis=1).reset_index(drop=True)\n",
        "y = train_df[\"class\"].reset_index(drop=True)\n",
        "X_test = test_df.drop([\"class\"],axis=1).reset_index(drop=True)\n",
        "X_full = X_scaled.drop([\"class\"],axis=1)"
      ]
    },
    {
      "cell_type": "markdown",
      "metadata": {
        "id": "7c4ge8EoajVB"
      },
      "source": [
        "### Model"
      ]
    },
    {
      "cell_type": "code",
      "execution_count": null,
      "metadata": {
        "id": "-it0JmIaEBkK"
      },
      "outputs": [],
      "source": [
        "model_et = ExtraTreesClassifier(n_estimators = 2000,n_jobs = -1,random_state=42)\n",
        "model_lgbm = LGBMClassifier(objective = 'multiclass',n_estimators = 10000,random_state = 42,learning_rate = 0.1,n_jobs = -1)\n",
        "model_qda = QuadraticDiscriminantAnalysis()\n",
        "model_lda = LinearDiscriminantAnalysis()\n",
        "model_bgmm = BayesianGMMClassifier(n_components=7,random_state = 42,tol =1e-3,covariance_type = 'full',max_iter = 1000,n_init=4,init_params='kmeans')\n",
        "models = {\"ET\":model_et, \"LGBM\":model_lgbm, \"QDA\":model_qda, \"LDA\":model_lda, \"BGMM_C\":model_bgmm}                               "
      ]
    },
    {
      "cell_type": "markdown",
      "metadata": {
        "id": "e4MtKDMwajVC"
      },
      "source": [
        "### Cross validation\n",
        "Lets see how well the classification algorithms perform"
      ]
    },
    {
      "cell_type": "code",
      "execution_count": null,
      "metadata": {
        "id": "ZocJbHg3EBkL"
      },
      "outputs": [],
      "source": [
        "def k_fold_cv(model,X,y, verbose=True):\n",
        "    kfold = StratifiedKFold(n_splits = 5, shuffle=True, random_state = 0)\n",
        "\n",
        "    feature_imp, y_pred_list, y_true_list, acc_list  = [],[],[],[]\n",
        "    for fold, (train_index, val_index) in enumerate(kfold.split(X, y)):\n",
        "        if verbose: print(\"==fold==\", fold)\n",
        "        X_train = X.loc[train_index]\n",
        "        X_val = X.loc[val_index]\n",
        "\n",
        "        y_train = y.loc[train_index]\n",
        "        y_val = y.loc[val_index]\n",
        "\n",
        "        model.fit(X_train,y_train)\n",
        "\n",
        "        y_pred = model.predict(X_val)\n",
        "\n",
        "        y_pred_list = np.append(y_pred_list, y_pred)\n",
        "        y_true_list = np.append(y_true_list, y_val)\n",
        "\n",
        "        acc_list.append(accuracy_score(y_pred, y_val))\n",
        "        if verbose: print('Acc', accuracy_score(y_pred, y_val))\n",
        "\n",
        "        try:\n",
        "            feature_imp.append(model.feature_importances_)\n",
        "        except AttributeError: # if model does not have .feature_importances_ attribute\n",
        "            pass # returns empty list\n",
        "            \n",
        "    return feature_imp, y_pred_list, y_true_list, acc_list, X_val, y_val"
      ]
    },
    {
      "cell_type": "markdown",
      "metadata": {
        "id": "E6oa2XEzajVC"
      },
      "source": [
        "### Evaluate performance of models "
      ]
    },
    {
      "cell_type": "code",
      "execution_count": null,
      "metadata": {
        "id": "h6_J2GZeEBkL"
      },
      "outputs": [],
      "source": [
        "def evaluate_models():\n",
        "    for model_name, model in models.items():\n",
        "        print(\"===\",model_name,\"===\")\n",
        "        feature_imp, y_pred_list, y_true_list, acc_list, X_val, y_val = k_fold_cv(model=model,X=X,y=y, verbose=False)\n",
        "        acc_score = accuracy_score(y_pred_list, y_true_list)\n",
        "        print(\"{0:0.4f}\".format(acc_score))"
      ]
    },
    {
      "cell_type": "code",
      "execution_count": null,
      "metadata": {
        "colab": {
          "base_uri": "https://localhost:8080/"
        },
        "id": "9JOYyMJqEBkL",
        "outputId": "b7e5cbea-80a2-419b-db30-e997d7df0ccc"
      },
      "outputs": [
        {
          "name": "stdout",
          "output_type": "stream",
          "text": [
            "=== ET ===\n",
            "0.9798\n",
            "=== LGBM ===\n",
            "0.9957\n",
            "=== QDA ===\n",
            "0.9998\n",
            "=== LDA ===\n",
            "0.8456\n",
            "=== BGMM_C ===\n",
            "0.9882\n"
          ]
        }
      ],
      "source": [
        "evaluate_models()"
      ]
    },
    {
      "cell_type": "markdown",
      "metadata": {
        "id": "G817XnnmajVE"
      },
      "source": [
        "### Choose the best model : LGBM"
      ]
    },
    {
      "cell_type": "code",
      "execution_count": null,
      "metadata": {
        "colab": {
          "base_uri": "https://localhost:8080/"
        },
        "id": "GPKPt2IsEBkL",
        "outputId": "91b03f24-f7d5-4a01-99b6-4a8c55eb3d15"
      },
      "outputs": [
        {
          "name": "stdout",
          "output_type": "stream",
          "text": [
            "==fold== 0\n",
            "Acc 0.9959729381443299\n",
            "==fold== 1\n",
            "Acc 0.9956507731958762\n",
            "==fold== 2\n",
            "Acc 0.9958118556701031\n",
            "==fold== 3\n",
            "Acc 0.9959729381443299\n",
            "==fold== 4\n",
            "Acc 0.9949254933548127\n"
          ]
        }
      ],
      "source": [
        "feature_imp, y_pred_list, y_true_list, acc_list, X_val, y_val = k_fold_cv(model=model_lgbm,X=X,y=y)"
      ]
    },
    {
      "cell_type": "markdown",
      "metadata": {
        "id": "_HKkfmHgajVE"
      },
      "source": [
        "### Feature importance\n",
        "Lets just reconfirm that the features we dropped in the clustering algorithm are also not important for the classification algorithm."
      ]
    },
    {
      "cell_type": "code",
      "execution_count": null,
      "metadata": {
        "colab": {
          "base_uri": "https://localhost:8080/",
          "height": 893
        },
        "id": "RhFQSX_tEBkL",
        "outputId": "200cce4f-0e67-4e9a-cb3b-b5989b70c42d"
      },
      "outputs": [
        {
          "data": {
            "image/png": "[encoded data removed]",
            "text/plain": [
              "<Figure size 1080x1080 with 1 Axes>"
            ]
          },
          "metadata": {
            "needs_background": "light"
          },
          "output_type": "display_data"
        }
      ],
      "source": [
        "def fold_feature_importances(model_importances, column_names, model_name, n_folds = 5, ax=None, boxplot=False):\n",
        "    importances_df = pd.DataFrame({\"feature_cols\": column_names, \"importances_fold_0\": model_importances[0]})\n",
        "    for i in range(1,n_folds):\n",
        "        importances_df[\"importances_fold_\"+str(i)] = model_importances[i]\n",
        "    importances_df[\"importances_fold_median\"] = importances_df.drop(columns=[\"feature_cols\"]).median(axis=1)\n",
        "    importances_df = importances_df.sort_values(by=\"importances_fold_median\", ascending=False)\n",
        "    if ax == None:\n",
        "        f, ax = plt.subplots(figsize=(15, 25))\n",
        "    if boxplot == False:\n",
        "        ax = sns.barplot(data = importances_df, x = \"importances_fold_median\", y=\"feature_cols\", color=\"blue\")\n",
        "        ax.set_xlabel(\"Median Feature importance across all folds\");\n",
        "    elif boxplot == True:\n",
        "        importances_df = importances_df.drop(columns=\"importances_fold_median\")\n",
        "        importances_df = importances_df.set_index(\"feature_cols\").stack().reset_index().rename(columns={0:\"feature_importance\"})\n",
        "        ax = sns.boxplot(data = importances_df, y = \"feature_cols\", x=\"feature_importance\", color=\"blue\", orient=\"h\")\n",
        "        ax.set_xlabel(\"Feature importance across all folds\");\n",
        "    plt.title(model_name)\n",
        "    ax.set_ylabel(\"Feature Columns\")\n",
        "    return ax\n",
        "    \n",
        "f, ax = plt.subplots(figsize=(15, 15))\n",
        "fold_feature_importances(model_importances = feature_imp, column_names = X_val.columns, model_name = \"LGBM\", n_folds = 2, ax=ax, boxplot=False);"
      ]
    },
    {
      "cell_type": "markdown",
      "metadata": {
        "id": "yWRJaFveajVF"
      },
      "source": [
        "Yep as expected, [f_07, f_08, ..., f_13] and [f_22, f_23, ... , f_28] seem important, but the other features do not."
      ]
    },
    {
      "cell_type": "markdown",
      "metadata": {
        "id": "7NkHrK17ajVF"
      },
      "source": [
        "### Inference¶\n"
      ]
    },
    {
      "cell_type": "code",
      "execution_count": null,
      "metadata": {
        "colab": {
          "base_uri": "https://localhost:8080/"
        },
        "id": "70ZLIhEeEBkM",
        "outputId": "8d5c283a-b50f-4a76-dcf9-c647a2c68fdc"
      },
      "outputs": [
        {
          "name": "stdout",
          "output_type": "stream",
          "text": [
            "=== ET ===\n",
            "David Bouldin score: 3.4291\n",
            "Calinski Harabasz score: 3988.111\n",
            "Silhouette score: 0.0411\n",
            "=== LGBM ===\n",
            "David Bouldin score: 3.5627\n",
            "Calinski Harabasz score: 3880.284\n",
            "Silhouette score: 0.0374\n",
            "=== QDA ===\n",
            "David Bouldin score: 3.5168\n",
            "Calinski Harabasz score: 3901.517\n",
            "Silhouette score: 0.0385\n",
            "=== LDA ===\n",
            "David Bouldin score: 3.0199\n",
            "Calinski Harabasz score: 4653.890\n",
            "Silhouette score: 0.0561\n",
            "=== BGMM_C ===\n",
            "David Bouldin score: 3.6052\n",
            "Calinski Harabasz score: 3823.773\n",
            "Silhouette score: 0.0356\n"
          ]
        }
      ],
      "source": [
        "def fit_predict_all():\n",
        "    predictions = []\n",
        "    model_names = []\n",
        "    scores = []\n",
        "    for model_name, model in models.items():\n",
        "        print(\"===\",model_name,\"===\")\n",
        "        model.fit(X[best_cols], y)\n",
        "        preds_prob =  model.predict_proba(X_full[best_cols])\n",
        "        preds_prob_df = pd.DataFrame(preds_prob, columns=range(1,8), index=X_scaled.index)\n",
        "        db, ch, s = score_clusters(X_scaled[best_cols], preds_prob_df.idxmax(axis=1), verbose=True)\n",
        "        scores.append((db,ch,s))\n",
        "        predictions.append(preds_prob_df)\n",
        "        model_names.append(model_name)\n",
        "    \n",
        "    return predictions, model_names, scores\n",
        "    \n",
        "predictions, model_names, scores = fit_predict_all()"
      ]
    },
    {
      "cell_type": "markdown",
      "metadata": {
        "id": "6kbwX8VjajVG"
      },
      "source": [
        "Lets compare these scores to our clustering scores and also add our clustering predictions to the list of classification predictions"
      ]
    },
    {
      "cell_type": "code",
      "execution_count": null,
      "metadata": {
        "id": "UghKCMt8fTEM"
      },
      "outputs": [],
      "source": [
        "cluster_class_probs = cluster_class_probs.loc[:,[1,2,3,4,5,6,7]]"
      ]
    },
    {
      "cell_type": "code",
      "execution_count": null,
      "metadata": {
        "id": "W9ihf0uwfVWb"
      },
      "outputs": [],
      "source": [
        "predictions.append(cluster_class_probs)\n",
        "model_names.append(\"BGMM\")"
      ]
    },
    {
      "cell_type": "code",
      "execution_count": null,
      "metadata": {
        "id": "9vaAHB5SfWnz",
        "outputId": "9857f05c-f841-46aa-8c0e-0383d67372f8"
      },
      "outputs": [
        {
          "name": "stdout",
          "output_type": "stream",
          "text": [
            "David Bouldin score: 3.6274\n",
            "Calinski Harabasz score: 3804.007\n",
            "Silhouette score: 0.0355\n"
          ]
        }
      ],
      "source": [
        "db, ch, s = score_clusters(X_scaled[best_cols], cluster_class_probs.idxmax(axis=1), verbose=True)\n",
        "scores.append((db,ch,s))"
      ]
    },
    {
      "cell_type": "markdown",
      "metadata": {
        "id": "J0f1fbh5ajVH"
      },
      "source": [
        "Our classification algorithm appears to be performing better than our clustering algorithms; although I don't trust the clustering scores too much."
      ]
    },
    {
      "cell_type": "markdown",
      "metadata": {
        "id": "MBIG4_P6ajVI"
      },
      "source": [
        "### Combine Predictions\n",
        "Lets combine the probabilities from the different classification/clustering algorithms."
      ]
    },
    {
      "cell_type": "code",
      "execution_count": null,
      "metadata": {
        "id": "xPSDKB7QfZZE"
      },
      "outputs": [],
      "source": [
        "#chosen fairly randomly\n",
        "predictions_df = 0.5 * predictions[0] + 1.5 * predictions[1] + 0.5 * predictions[2] + 1.5 * predictions[4] + 0.5 * predictions[5]\n",
        "\n",
        "#normalise so rows sums to 1\n",
        "predictions_df = predictions_df.div(predictions_df.sum(axis=1), axis=0)\n",
        "predictions_df = best_class(predictions_df)\n"
      ]
    },
    {
      "cell_type": "code",
      "execution_count": null,
      "metadata": {
        "id": "s22PBC6Wfbt1",
        "outputId": "df5bf910-fc5d-4b34-de4a-bc3619f25c82"
      },
      "outputs": [
        {
          "name": "stdout",
          "output_type": "stream",
          "text": [
            "David Bouldin score: 3.5488\n",
            "Calinski Harabasz score: 3893.094\n",
            "Silhouette score: 0.0377\n"
          ]
        }
      ],
      "source": [
        "db, ch, s = score_clusters(X_scaled[best_cols], predictions_df[\"best_class\"], verbose=True)\n",
        "scores.append((db,ch,s))\n",
        "model_names.append(\"combined\")"
      ]
    },
    {
      "cell_type": "code",
      "execution_count": null,
      "metadata": {
        "id": "wSDrm_aUfd6k",
        "outputId": "96c67ea3-d77e-4229-d735-61cbf8adf197"
      },
      "outputs": [
        {
          "data": {
            "text/html": [
              "<div>\n",
              "<style scoped>\n",
              "    .dataframe tbody tr th:only-of-type {\n",
              "        vertical-align: middle;\n",
              "    }\n",
              "\n",
              "    .dataframe tbody tr th {\n",
              "        vertical-align: top;\n",
              "    }\n",
              "\n",
              "    .dataframe thead th {\n",
              "        text-align: right;\n",
              "    }\n",
              "</style>\n",
              "<table border=\"1\" class=\"dataframe\">\n",
              "  <thead>\n",
              "    <tr style=\"text-align: right;\">\n",
              "      <th></th>\n",
              "      <th>Davies-Bouldin Index</th>\n",
              "      <th>Calinski-Harabasz Index</th>\n",
              "      <th>Silhouette Coefficient</th>\n",
              "    </tr>\n",
              "  </thead>\n",
              "  <tbody>\n",
              "    <tr>\n",
              "      <th>ET</th>\n",
              "      <td>3.429108</td>\n",
              "      <td>3988.111041</td>\n",
              "      <td>0.041097</td>\n",
              "    </tr>\n",
              "    <tr>\n",
              "      <th>LGBM</th>\n",
              "      <td>3.562729</td>\n",
              "      <td>3880.283559</td>\n",
              "      <td>0.037445</td>\n",
              "    </tr>\n",
              "    <tr>\n",
              "      <th>QDA</th>\n",
              "      <td>3.516778</td>\n",
              "      <td>3901.517321</td>\n",
              "      <td>0.038468</td>\n",
              "    </tr>\n",
              "    <tr>\n",
              "      <th>LDA</th>\n",
              "      <td>3.019943</td>\n",
              "      <td>4653.889971</td>\n",
              "      <td>0.056131</td>\n",
              "    </tr>\n",
              "    <tr>\n",
              "      <th>BGMM_C</th>\n",
              "      <td>3.605247</td>\n",
              "      <td>3823.773435</td>\n",
              "      <td>0.035554</td>\n",
              "    </tr>\n",
              "    <tr>\n",
              "      <th>BGMM</th>\n",
              "      <td>3.627421</td>\n",
              "      <td>3804.007284</td>\n",
              "      <td>0.035539</td>\n",
              "    </tr>\n",
              "    <tr>\n",
              "      <th>combined</th>\n",
              "      <td>3.548768</td>\n",
              "      <td>3893.093995</td>\n",
              "      <td>0.037731</td>\n",
              "    </tr>\n",
              "  </tbody>\n",
              "</table>\n",
              "</div>"
            ],
            "text/plain": [
              "          Davies-Bouldin Index  Calinski-Harabasz Index  \\\n",
              "ET                    3.429108              3988.111041   \n",
              "LGBM                  3.562729              3880.283559   \n",
              "QDA                   3.516778              3901.517321   \n",
              "LDA                   3.019943              4653.889971   \n",
              "BGMM_C                3.605247              3823.773435   \n",
              "BGMM                  3.627421              3804.007284   \n",
              "combined              3.548768              3893.093995   \n",
              "\n",
              "          Silhouette Coefficient  \n",
              "ET                      0.041097  \n",
              "LGBM                    0.037445  \n",
              "QDA                     0.038468  \n",
              "LDA                     0.056131  \n",
              "BGMM_C                  0.035554  \n",
              "BGMM                    0.035539  \n",
              "combined                0.037731  "
            ]
          },
          "execution_count": 28,
          "metadata": {},
          "output_type": "execute_result"
        }
      ],
      "source": [
        "pd.DataFrame(scores, index=model_names, columns=[\"Davies-Bouldin Index\",\"Calinski-Harabasz Index\",\"Silhouette Coefficient\"])"
      ]
    },
    {
      "cell_type": "markdown",
      "metadata": {
        "id": "CTv4gc6AajVJ"
      },
      "source": [
        "### Iterative Classification - BGMM Classifier¶\n",
        "To improve performance further we can iteratively use the the predicted labels from the previous iteration's model as our training labels for the current iteration's model."
      ]
    },
    {
      "cell_type": "code",
      "execution_count": null,
      "metadata": {
        "id": "yy-4rRYNfolE"
      },
      "outputs": [],
      "source": [
        "def update_predictions(predict_number, y):\n",
        "    for i in range(predict_number):\n",
        "        print(\"=========\", i, \"==========\")\n",
        "        X_scaled_sample = X_scaled.sample(50000)\n",
        "        y_sample = y.loc[X_scaled_sample.index]\n",
        "        \n",
        "        bgmmC = BayesianGMMClassifier(n_components=7,random_state = i,tol =1e-3,covariance_type = 'full',max_iter = 300,n_init=3,init_params='kmeans')\n",
        "        \n",
        "        bgmmC.fit(X_scaled_sample[best_cols], y_sample)\n",
        "        \n",
        "        pred_probs = bgmmC.predict_proba(X_scaled[best_cols])\n",
        "        pred_probs = pd.DataFrame(pred_probs, columns=range(1,8))\n",
        "        \n",
        "        # lets score the cluster labels each iteration\n",
        "        score_clusters(X_scaled[best_cols], pred_probs.idxmax(axis=1), verbose=True)\n",
        "        y = pred_probs.idxmax(axis=1)\n",
        "        \n",
        "    return pred_probs"
      ]
    },
    {
      "cell_type": "code",
      "execution_count": null,
      "metadata": {
        "id": "rdlq9UA7fpbc",
        "outputId": "416420ee-d53d-47df-df7c-246f2a16c672"
      },
      "outputs": [
        {
          "name": "stdout",
          "output_type": "stream",
          "text": [
            "========= 0 ==========\n",
            "David Bouldin score: 3.6254\n",
            "Calinski Harabasz score: 3784.440\n",
            "Silhouette score: 0.0344\n",
            "========= 1 ==========\n",
            "David Bouldin score: 3.6851\n",
            "Calinski Harabasz score: 3699.559\n",
            "Silhouette score: 0.0324\n",
            "========= 2 ==========\n",
            "David Bouldin score: 3.7386\n",
            "Calinski Harabasz score: 3644.513\n",
            "Silhouette score: 0.0313\n",
            "========= 3 ==========\n",
            "David Bouldin score: 3.7755\n",
            "Calinski Harabasz score: 3606.856\n",
            "Silhouette score: 0.0306\n",
            "========= 4 ==========\n",
            "David Bouldin score: 3.8094\n",
            "Calinski Harabasz score: 3581.096\n",
            "Silhouette score: 0.0302\n",
            "========= 5 ==========\n",
            "David Bouldin score: 3.8307\n",
            "Calinski Harabasz score: 3563.320\n",
            "Silhouette score: 0.0300\n",
            "========= 6 ==========\n",
            "David Bouldin score: 3.8463\n",
            "Calinski Harabasz score: 3552.723\n",
            "Silhouette score: 0.0298\n",
            "========= 7 ==========\n",
            "David Bouldin score: 3.8534\n",
            "Calinski Harabasz score: 3550.081\n",
            "Silhouette score: 0.0298\n",
            "========= 8 ==========\n",
            "David Bouldin score: 3.8522\n",
            "Calinski Harabasz score: 3547.736\n",
            "Silhouette score: 0.0297\n",
            "========= 9 ==========\n",
            "David Bouldin score: 3.8553\n",
            "Calinski Harabasz score: 3543.493\n",
            "Silhouette score: 0.0296\n",
            "========= 10 ==========\n",
            "David Bouldin score: 3.8572\n",
            "Calinski Harabasz score: 3544.481\n",
            "Silhouette score: 0.0297\n",
            "========= 11 ==========\n",
            "David Bouldin score: 3.8553\n",
            "Calinski Harabasz score: 3542.577\n",
            "Silhouette score: 0.0296\n",
            "========= 12 ==========\n",
            "David Bouldin score: 3.8671\n",
            "Calinski Harabasz score: 3543.817\n",
            "Silhouette score: 0.0297\n",
            "========= 13 ==========\n",
            "David Bouldin score: 3.8714\n",
            "Calinski Harabasz score: 3542.354\n",
            "Silhouette score: 0.0297\n",
            "========= 14 ==========\n",
            "David Bouldin score: 3.8706\n",
            "Calinski Harabasz score: 3543.100\n",
            "Silhouette score: 0.0297\n",
            "========= 15 ==========\n",
            "David Bouldin score: 3.8695\n",
            "Calinski Harabasz score: 3540.492\n",
            "Silhouette score: 0.0296\n",
            "========= 16 ==========\n",
            "David Bouldin score: 3.8699\n",
            "Calinski Harabasz score: 3540.298\n",
            "Silhouette score: 0.0297\n",
            "========= 17 ==========\n",
            "David Bouldin score: 3.8737\n",
            "Calinski Harabasz score: 3538.418\n",
            "Silhouette score: 0.0296\n",
            "========= 18 ==========\n",
            "David Bouldin score: 3.8691\n",
            "Calinski Harabasz score: 3540.377\n",
            "Silhouette score: 0.0297\n",
            "========= 19 ==========\n",
            "David Bouldin score: 3.8787\n",
            "Calinski Harabasz score: 3538.929\n",
            "Silhouette score: 0.0296\n"
          ]
        }
      ],
      "source": [
        "predicted_probabilities = update_predictions(predict_number=20, y=predictions_df[\"best_class\"])"
      ]
    },
    {
      "cell_type": "code",
      "execution_count": null,
      "metadata": {
        "id": "N5L2eLznfvjb"
      },
      "outputs": [],
      "source": [
        "predictions_df = best_class(predicted_probabilities)"
      ]
    },
    {
      "cell_type": "code",
      "execution_count": null,
      "metadata": {
        "id": "huAebT2yajVK",
        "outputId": "5359591a-8f85-4009-bb6a-001dcccaf752"
      },
      "outputs": [
        {
          "data": {
            "text/html": [
              "<div>\n",
              "<style scoped>\n",
              "    .dataframe tbody tr th:only-of-type {\n",
              "        vertical-align: middle;\n",
              "    }\n",
              "\n",
              "    .dataframe tbody tr th {\n",
              "        vertical-align: top;\n",
              "    }\n",
              "\n",
              "    .dataframe thead th {\n",
              "        text-align: right;\n",
              "    }\n",
              "</style>\n",
              "<table border=\"1\" class=\"dataframe\">\n",
              "  <thead>\n",
              "    <tr style=\"text-align: right;\">\n",
              "      <th></th>\n",
              "      <th>1</th>\n",
              "      <th>2</th>\n",
              "      <th>3</th>\n",
              "      <th>4</th>\n",
              "      <th>5</th>\n",
              "      <th>6</th>\n",
              "      <th>7</th>\n",
              "      <th>highest_prob</th>\n",
              "      <th>best_class</th>\n",
              "      <th>second_highest_prob</th>\n",
              "      <th>second_best_class</th>\n",
              "    </tr>\n",
              "  </thead>\n",
              "  <tbody>\n",
              "    <tr>\n",
              "      <th>0</th>\n",
              "      <td>1.118847e-03</td>\n",
              "      <td>9.930009e-01</td>\n",
              "      <td>5.829370e-03</td>\n",
              "      <td>0.000002</td>\n",
              "      <td>1.053539e-05</td>\n",
              "      <td>3.728590e-09</td>\n",
              "      <td>3.809276e-05</td>\n",
              "      <td>0.993001</td>\n",
              "      <td>2</td>\n",
              "      <td>0.005829</td>\n",
              "      <td>3</td>\n",
              "    </tr>\n",
              "    <tr>\n",
              "      <th>1</th>\n",
              "      <td>9.130823e-04</td>\n",
              "      <td>8.472699e-05</td>\n",
              "      <td>1.551144e-07</td>\n",
              "      <td>0.000444</td>\n",
              "      <td>1.553775e-04</td>\n",
              "      <td>2.894429e-03</td>\n",
              "      <td>9.955077e-01</td>\n",
              "      <td>0.995508</td>\n",
              "      <td>7</td>\n",
              "      <td>0.002894</td>\n",
              "      <td>6</td>\n",
              "    </tr>\n",
              "    <tr>\n",
              "      <th>2</th>\n",
              "      <td>4.107009e-07</td>\n",
              "      <td>5.566534e-02</td>\n",
              "      <td>9.443124e-01</td>\n",
              "      <td>0.000022</td>\n",
              "      <td>3.699887e-21</td>\n",
              "      <td>6.729751e-13</td>\n",
              "      <td>4.006938e-26</td>\n",
              "      <td>0.944312</td>\n",
              "      <td>3</td>\n",
              "      <td>0.055665</td>\n",
              "      <td>2</td>\n",
              "    </tr>\n",
              "    <tr>\n",
              "      <th>3</th>\n",
              "      <td>3.056485e-08</td>\n",
              "      <td>8.563957e-07</td>\n",
              "      <td>8.960118e-04</td>\n",
              "      <td>0.002391</td>\n",
              "      <td>3.592112e-08</td>\n",
              "      <td>9.963793e-01</td>\n",
              "      <td>3.331962e-04</td>\n",
              "      <td>0.996379</td>\n",
              "      <td>6</td>\n",
              "      <td>0.002391</td>\n",
              "      <td>4</td>\n",
              "    </tr>\n",
              "    <tr>\n",
              "      <th>4</th>\n",
              "      <td>2.121894e-04</td>\n",
              "      <td>1.345387e-07</td>\n",
              "      <td>5.010801e-07</td>\n",
              "      <td>0.999636</td>\n",
              "      <td>1.509247e-04</td>\n",
              "      <td>8.373580e-09</td>\n",
              "      <td>1.285245e-10</td>\n",
              "      <td>0.999636</td>\n",
              "      <td>4</td>\n",
              "      <td>0.000212</td>\n",
              "      <td>1</td>\n",
              "    </tr>\n",
              "  </tbody>\n",
              "</table>\n",
              "</div>"
            ],
            "text/plain": [
              "              1             2             3         4             5  \\\n",
              "0  1.118847e-03  9.930009e-01  5.829370e-03  0.000002  1.053539e-05   \n",
              "1  9.130823e-04  8.472699e-05  1.551144e-07  0.000444  1.553775e-04   \n",
              "2  4.107009e-07  5.566534e-02  9.443124e-01  0.000022  3.699887e-21   \n",
              "3  3.056485e-08  8.563957e-07  8.960118e-04  0.002391  3.592112e-08   \n",
              "4  2.121894e-04  1.345387e-07  5.010801e-07  0.999636  1.509247e-04   \n",
              "\n",
              "              6             7  highest_prob  best_class  second_highest_prob  \\\n",
              "0  3.728590e-09  3.809276e-05      0.993001           2             0.005829   \n",
              "1  2.894429e-03  9.955077e-01      0.995508           7             0.002894   \n",
              "2  6.729751e-13  4.006938e-26      0.944312           3             0.055665   \n",
              "3  9.963793e-01  3.331962e-04      0.996379           6             0.002391   \n",
              "4  8.373580e-09  1.285245e-10      0.999636           4             0.000212   \n",
              "\n",
              "   second_best_class  \n",
              "0                  3  \n",
              "1                  6  \n",
              "2                  2  \n",
              "3                  4  \n",
              "4                  1  "
            ]
          },
          "execution_count": 34,
          "metadata": {},
          "output_type": "execute_result"
        }
      ],
      "source": [
        "predictions_df.head()"
      ]
    },
    {
      "cell_type": "markdown",
      "metadata": {
        "id": "_ZyAZnoWajVK"
      },
      "source": [
        "### Submission"
      ]
    },
    {
      "cell_type": "code",
      "execution_count": null,
      "metadata": {
        "id": "sjqPsBgBShPr"
      },
      "outputs": [],
      "source": [
        "submission[\"Predicted\"] = predictions_df[\"best_class\"]\n",
        "submission.to_csv('submission_1.csv', index=False)"
      ]
    },
    {
      "cell_type": "code",
      "execution_count": null,
      "metadata": {
        "id": "7KFdzwvZajVL",
        "outputId": "ba167392-45ee-4445-f571-b6c1c5fce12d"
      },
      "outputs": [
        {
          "data": {
            "text/html": [
              "<div>\n",
              "<style scoped>\n",
              "    .dataframe tbody tr th:only-of-type {\n",
              "        vertical-align: middle;\n",
              "    }\n",
              "\n",
              "    .dataframe tbody tr th {\n",
              "        vertical-align: top;\n",
              "    }\n",
              "\n",
              "    .dataframe thead th {\n",
              "        text-align: right;\n",
              "    }\n",
              "</style>\n",
              "<table border=\"1\" class=\"dataframe\">\n",
              "  <thead>\n",
              "    <tr style=\"text-align: right;\">\n",
              "      <th></th>\n",
              "      <th>Id</th>\n",
              "      <th>Predicted</th>\n",
              "    </tr>\n",
              "  </thead>\n",
              "  <tbody>\n",
              "    <tr>\n",
              "      <th>0</th>\n",
              "      <td>0</td>\n",
              "      <td>2</td>\n",
              "    </tr>\n",
              "    <tr>\n",
              "      <th>1</th>\n",
              "      <td>1</td>\n",
              "      <td>7</td>\n",
              "    </tr>\n",
              "    <tr>\n",
              "      <th>2</th>\n",
              "      <td>2</td>\n",
              "      <td>3</td>\n",
              "    </tr>\n",
              "    <tr>\n",
              "      <th>3</th>\n",
              "      <td>3</td>\n",
              "      <td>6</td>\n",
              "    </tr>\n",
              "    <tr>\n",
              "      <th>4</th>\n",
              "      <td>4</td>\n",
              "      <td>4</td>\n",
              "    </tr>\n",
              "    <tr>\n",
              "      <th>...</th>\n",
              "      <td>...</td>\n",
              "      <td>...</td>\n",
              "    </tr>\n",
              "    <tr>\n",
              "      <th>97995</th>\n",
              "      <td>97995</td>\n",
              "      <td>7</td>\n",
              "    </tr>\n",
              "    <tr>\n",
              "      <th>97996</th>\n",
              "      <td>97996</td>\n",
              "      <td>5</td>\n",
              "    </tr>\n",
              "    <tr>\n",
              "      <th>97997</th>\n",
              "      <td>97997</td>\n",
              "      <td>3</td>\n",
              "    </tr>\n",
              "    <tr>\n",
              "      <th>97998</th>\n",
              "      <td>97998</td>\n",
              "      <td>1</td>\n",
              "    </tr>\n",
              "    <tr>\n",
              "      <th>97999</th>\n",
              "      <td>97999</td>\n",
              "      <td>5</td>\n",
              "    </tr>\n",
              "  </tbody>\n",
              "</table>\n",
              "<p>98000 rows × 2 columns</p>\n",
              "</div>"
            ],
            "text/plain": [
              "          Id  Predicted\n",
              "0          0          2\n",
              "1          1          7\n",
              "2          2          3\n",
              "3          3          6\n",
              "4          4          4\n",
              "...      ...        ...\n",
              "97995  97995          7\n",
              "97996  97996          5\n",
              "97997  97997          3\n",
              "97998  97998          1\n",
              "97999  97999          5\n",
              "\n",
              "[98000 rows x 2 columns]"
            ]
          },
          "execution_count": 35,
          "metadata": {},
          "output_type": "execute_result"
        }
      ],
      "source": [
        "submission"
      ]
    }
  ],
  "metadata": {
    "colab": {
      "provenance": [],
      "include_colab_link": true
    },
    "kernelspec": {
      "display_name": "Python 3.9.7 ('base')",
      "language": "python",
      "name": "python3"
    },
    "language_info": {
      "codemirror_mode": {
        "name": "ipython",
        "version": 3
      },
      "file_extension": ".py",
      "mimetype": "text/x-python",
      "name": "python",
      "nbconvert_exporter": "python",
      "pygments_lexer": "ipython3",
      "version": "3.9.12"
    },
    "orig_nbformat": 4,
    "vscode": {
      "interpreter": {
        "hash": "1db13ed87bb8965e4f3a2d3f13e8dfe37cf8727ab6c757d84791f40d0f5929ff"
      }
    }
  },
  "nbformat": 4,
  "nbformat_minor": 0
}